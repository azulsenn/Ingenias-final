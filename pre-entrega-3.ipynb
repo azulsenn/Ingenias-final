{
  "cells": [
    {
      "cell_type": "markdown",
      "id": "a6f91097",
      "metadata": {
        "id": "a6f91097"
      },
      "source": [
        "# Clasificación del blanqueamiento de coral"
      ]
    },
    {
      "cell_type": "markdown",
      "id": "0e2e8ec5-8c1d-47e3-9779-e1d7bda18521",
      "metadata": {
        "id": "0e2e8ec5-8c1d-47e3-9779-e1d7bda18521"
      },
      "source": [
        "El objetivo de este modelo supervisado es predecir la gravedad del blanqueamiento de coral según variables ambientales (temperatura, pH, ola de calor)."
      ]
    },
    {
      "cell_type": "markdown",
      "id": "7c49d566-bc88-461b-af4b-961946599208",
      "metadata": {
        "id": "7c49d566-bc88-461b-af4b-961946599208"
      },
      "source": [
        "Importación de librerías."
      ]
    },
    {
      "cell_type": "code",
      "execution_count": null,
      "id": "4983eccb-cfbb-43e2-8d4a-05e1fdbe4c24",
      "metadata": {
        "id": "4983eccb-cfbb-43e2-8d4a-05e1fdbe4c24"
      },
      "outputs": [],
      "source": [
        "import pandas as pd\n",
        "import numpy as np\n",
        "from sklearn.model_selection import train_test_split, GridSearchCV\n",
        "from sklearn.preprocessing import StandardScaler\n",
        "from sklearn.metrics import classification_report, confusion_matrix, mean_absolute_error\n",
        "from sklearn.ensemble import RandomForestClassifier\n",
        "from sklearn.tree import DecisionTreeClassifier\n",
        "from sklearn.neighbors import KNeighborsClassifier\n",
        "from sklearn.linear_model import LogisticRegression\n",
        "from sklearn.model_selection import cross_val_score\n",
        "from sklearn.model_selection import StratifiedKFold\n",
        "from sklearn.preprocessing import LabelEncoder\n",
        "\n",
        "import seaborn as sns\n",
        "import matplotlib.pyplot as plt"
      ]
    },
    {
      "cell_type": "markdown",
      "id": "071d1efa-5562-451c-a98e-03fdee4d70eb",
      "metadata": {
        "id": "071d1efa-5562-451c-a98e-03fdee4d70eb"
      },
      "source": [
        "Carga del dataset"
      ]
    },
    {
      "cell_type": "code",
      "execution_count": null,
      "id": "2cad3f53-c4ca-4edd-b056-48b220077219",
      "metadata": {
        "id": "2cad3f53-c4ca-4edd-b056-48b220077219"
      },
      "outputs": [],
      "source": [
        "df = pd.read_csv(\"realistic_ocean_climate_dataset.csv\")"
      ]
    },
    {
      "cell_type": "code",
      "execution_count": null,
      "id": "2bf3306f-a762-42dd-b941-252a74441e33",
      "metadata": {
        "id": "2bf3306f-a762-42dd-b941-252a74441e33"
      },
      "outputs": [],
      "source": [
        "df['Bleaching Severity'] = df['Bleaching Severity'].replace({np.nan: 'None'})"
      ]
    },
    {
      "cell_type": "code",
      "execution_count": null,
      "id": "bccc58b1-867e-4d6f-b5fa-d95d764e1ae3",
      "metadata": {
        "id": "bccc58b1-867e-4d6f-b5fa-d95d764e1ae3"
      },
      "outputs": [],
      "source": []
    },
    {
      "cell_type": "markdown",
      "id": "9435c9bf-4233-484a-a98f-b33db07b6f9b",
      "metadata": {
        "id": "9435c9bf-4233-484a-a98f-b33db07b6f9b"
      },
      "source": [
        "## Preprocesamiento"
      ]
    },
    {
      "cell_type": "markdown",
      "id": "8b63d587-4709-4bb6-9bb8-78d35aad82f6",
      "metadata": {
        "id": "8b63d587-4709-4bb6-9bb8-78d35aad82f6"
      },
      "source": [
        "Se codifican las clases (None, Low, Medium, High) de \"Bleaching Severity\" a valores numéricos."
      ]
    },
    {
      "cell_type": "code",
      "execution_count": null,
      "id": "e41c3a66-58de-40bf-8526-76e93331b335",
      "metadata": {
        "id": "e41c3a66-58de-40bf-8526-76e93331b335"
      },
      "outputs": [],
      "source": [
        "le = LabelEncoder()\n",
        "df['Bleaching Severity Encoded'] = le.fit_transform(df['Bleaching Severity'])"
      ]
    },
    {
      "cell_type": "raw",
      "id": "871a27fd-b419-4224-9c1b-b13acaab2914",
      "metadata": {
        "id": "871a27fd-b419-4224-9c1b-b13acaab2914"
      },
      "source": []
    },
    {
      "cell_type": "markdown",
      "id": "669c1e4b-71ad-4d84-acea-91e54d7799f3",
      "metadata": {
        "id": "669c1e4b-71ad-4d84-acea-91e54d7799f3"
      },
      "source": [
        "Se convierte la columna booleana \"Marine Heatwave\" a enteros (0 o 1)."
      ]
    },
    {
      "cell_type": "code",
      "execution_count": null,
      "id": "7bd9135e-5b76-4415-becf-d7ce05d286df",
      "metadata": {
        "id": "7bd9135e-5b76-4415-becf-d7ce05d286df"
      },
      "outputs": [],
      "source": [
        "df['Marine Heatwave'] = df['Marine Heatwave'].astype(int)"
      ]
    },
    {
      "cell_type": "raw",
      "id": "2d5305ee-fc3e-4856-9c91-75c45dc6f64e",
      "metadata": {
        "id": "2d5305ee-fc3e-4856-9c91-75c45dc6f64e"
      },
      "source": []
    },
    {
      "cell_type": "markdown",
      "id": "1fb5f228-a621-4d29-81f7-7d76c236f96f",
      "metadata": {
        "id": "1fb5f228-a621-4d29-81f7-7d76c236f96f"
      },
      "source": [
        "Seleccionamos las variables predictoras más relevantes para el modelo."
      ]
    },
    {
      "cell_type": "code",
      "execution_count": null,
      "id": "c11ab52d-8cc5-42cd-b13b-f0dd6b7b70a5",
      "metadata": {
        "id": "c11ab52d-8cc5-42cd-b13b-f0dd6b7b70a5"
      },
      "outputs": [],
      "source": [
        "features = ['SST (°C)', 'pH Level', 'Species Observed', 'Marine Heatwave']\n",
        "X = df[features]\n",
        "y = df['Bleaching Severity Encoded']"
      ]
    },
    {
      "cell_type": "raw",
      "id": "907ca6ff-e2bc-4b12-8c7a-7e61ab40e188",
      "metadata": {
        "id": "907ca6ff-e2bc-4b12-8c7a-7e61ab40e188"
      },
      "source": []
    },
    {
      "cell_type": "markdown",
      "id": "7b590172-232c-41e0-a380-54713e264a45",
      "metadata": {
        "id": "7b590172-232c-41e0-a380-54713e264a45"
      },
      "source": [
        "Se escalan las variables numéricas para que tengan media 0 y desviación estándar 1."
      ]
    },
    {
      "cell_type": "code",
      "execution_count": null,
      "id": "af2bcb9c-b2c0-4ea5-8874-26795814bc48",
      "metadata": {
        "id": "af2bcb9c-b2c0-4ea5-8874-26795814bc48"
      },
      "outputs": [],
      "source": [
        "scaler = StandardScaler()\n",
        "X_scaled = scaler.fit_transform(X)"
      ]
    },
    {
      "cell_type": "raw",
      "id": "d38656de-aa21-4967-8361-a7a33cf6fe60",
      "metadata": {
        "id": "d38656de-aa21-4967-8361-a7a33cf6fe60"
      },
      "source": []
    },
    {
      "cell_type": "markdown",
      "id": "fec1ca84-5bee-4cec-8038-71c048f5c6df",
      "metadata": {
        "id": "fec1ca84-5bee-4cec-8038-71c048f5c6df"
      },
      "source": [
        "## División en train/test"
      ]
    },
    {
      "cell_type": "markdown",
      "id": "430458b7-1141-401b-9d21-5c7412612957",
      "metadata": {
        "id": "430458b7-1141-401b-9d21-5c7412612957"
      },
      "source": [
        "Se divide el dataset en conjunto de entrenamiento y prueba (80% / 20%)."
      ]
    },
    {
      "cell_type": "code",
      "execution_count": null,
      "id": "f6629180-ee0c-429d-8141-ac772525aa7e",
      "metadata": {
        "id": "f6629180-ee0c-429d-8141-ac772525aa7e"
      },
      "outputs": [],
      "source": [
        "X_train, X_test, y_train, y_test = train_test_split(X_scaled, y, test_size=0.2, random_state=42, stratify=y)"
      ]
    },
    {
      "cell_type": "code",
      "execution_count": null,
      "id": "e85ab3f3-11c9-4611-9ff5-29282161d67d",
      "metadata": {
        "id": "e85ab3f3-11c9-4611-9ff5-29282161d67d"
      },
      "outputs": [],
      "source": []
    },
    {
      "cell_type": "markdown",
      "id": "9e1bc971-c97c-4893-8c4d-8c89295ec2c5",
      "metadata": {
        "jp-MarkdownHeadingCollapsed": true,
        "id": "9e1bc971-c97c-4893-8c4d-8c89295ec2c5"
      },
      "source": [
        "## Entrenamiento de Modelos"
      ]
    },
    {
      "cell_type": "markdown",
      "id": "cae7f3e6-7641-45ef-8b89-6fea95b95dd4",
      "metadata": {
        "jp-MarkdownHeadingCollapsed": true,
        "id": "cae7f3e6-7641-45ef-8b89-6fea95b95dd4"
      },
      "source": [
        "### Random Forest"
      ]
    },
    {
      "cell_type": "code",
      "execution_count": null,
      "id": "3eb88fab-86e0-4567-aa93-a20df1c8e88e",
      "metadata": {
        "id": "3eb88fab-86e0-4567-aa93-a20df1c8e88e"
      },
      "outputs": [],
      "source": [
        "rf_model = RandomForestClassifier()\n",
        "rf_model.fit(X_train, y_train)\n",
        "rf_preds = rf_model.predict(X_test)"
      ]
    },
    {
      "cell_type": "code",
      "execution_count": null,
      "id": "fb0831b6-4d6c-4cf5-a179-726a59080b72",
      "metadata": {
        "id": "fb0831b6-4d6c-4cf5-a179-726a59080b72",
        "outputId": "99c750dc-6efc-4a49-d5d0-528e1ff8053d"
      },
      "outputs": [
        {
          "name": "stdout",
          "output_type": "stream",
          "text": [
            "\n",
            ">>> Modelo: Random Forest\n",
            "              precision    recall  f1-score   support\n",
            "\n",
            "        High       0.10      0.06      0.07        18\n",
            "         Low       0.19      0.19      0.19        26\n",
            "      Medium       0.21      0.19      0.20        26\n",
            "        None       0.30      0.40      0.34        30\n",
            "\n",
            "    accuracy                           0.23       100\n",
            "   macro avg       0.20      0.21      0.20       100\n",
            "weighted avg       0.21      0.23      0.22       100\n",
            "\n"
          ]
        }
      ],
      "source": [
        "print(\"\\n>>> Modelo: Random Forest\")\n",
        "print(classification_report(y_test, rf_preds, target_names=[str(c) for c in le.classes_]))"
      ]
    },
    {
      "cell_type": "code",
      "execution_count": null,
      "id": "95a8016b-cfda-49f6-bcbc-770fa80ad4b5",
      "metadata": {
        "id": "95a8016b-cfda-49f6-bcbc-770fa80ad4b5"
      },
      "outputs": [],
      "source": [
        "cm = confusion_matrix(y_test, rf_preds)"
      ]
    },
    {
      "cell_type": "code",
      "execution_count": null,
      "id": "307c13c9-3a90-43d7-825c-2c45a019f5ac",
      "metadata": {
        "id": "307c13c9-3a90-43d7-825c-2c45a019f5ac",
        "outputId": "e0650cbd-252d-4159-9a5f-59c97dc93e56"
      },
      "outputs": [
        {
          "name": "stdout",
          "output_type": "stream",
          "text": [
            "Matriz de Confusión:\n",
            "\n",
            "        High  Low  Medium  None\n",
            "High       1    6       5     6\n",
            "Low        2    5       7    12\n",
            "Medium     3    8       5    10\n",
            "None       4    7       7    12\n"
          ]
        }
      ],
      "source": [
        "cm_df = pd.DataFrame(cm, index=le.classes_, columns=le.classes_)\n",
        "print(\"Matriz de Confusión:\\n\")\n",
        "print(cm_df)"
      ]
    },
    {
      "cell_type": "raw",
      "id": "8edb1245-f964-40c8-9c96-64ab6d86dce7",
      "metadata": {
        "id": "8edb1245-f964-40c8-9c96-64ab6d86dce7"
      },
      "source": []
    },
    {
      "cell_type": "code",
      "execution_count": null,
      "id": "da3122bd-6663-41b7-b7d7-fecf4ae5a577",
      "metadata": {
        "id": "da3122bd-6663-41b7-b7d7-fecf4ae5a577",
        "outputId": "c6243a9a-e872-422d-ad00-dc68a52965e9"
      },
      "outputs": [
        {
          "data": {
            "image/png": "[encoded data removed]",
            "text/plain": [
              "<Figure size 640x480 with 1 Axes>"
            ]
          },
          "metadata": {},
          "output_type": "display_data"
        }
      ],
      "source": [
        "importances = rf_model.feature_importances_\n",
        "forest_importances = pd.Series(importances, index=features)\n",
        "\n",
        "fig, ax = plt.subplots()\n",
        "forest_importances.plot.bar(ax=ax, color='green')\n",
        "ax.set_title(\"Feature importances\")\n",
        "ax.set_ylabel(\"Mean decrease in impurity\")\n",
        "fig.tight_layout()"
      ]
    },
    {
      "cell_type": "code",
      "execution_count": null,
      "id": "4c698a77-e326-4253-bc0b-0a76af0ced5d",
      "metadata": {
        "id": "4c698a77-e326-4253-bc0b-0a76af0ced5d"
      },
      "outputs": [],
      "source": []
    },
    {
      "cell_type": "markdown",
      "id": "f3295e6a-de85-4b4c-b355-f78f959d2eb5",
      "metadata": {
        "jp-MarkdownHeadingCollapsed": true,
        "id": "f3295e6a-de85-4b4c-b355-f78f959d2eb5"
      },
      "source": [
        "### Árbol de decisión"
      ]
    },
    {
      "cell_type": "code",
      "execution_count": null,
      "id": "b88c416c-6def-4d4f-81f4-fafcb784a64d",
      "metadata": {
        "id": "b88c416c-6def-4d4f-81f4-fafcb784a64d"
      },
      "outputs": [],
      "source": [
        "dt_model = DecisionTreeClassifier()\n",
        "dt_model.fit(X_train, y_train)\n",
        "dt_preds = dt_model.predict(X_test)"
      ]
    },
    {
      "cell_type": "code",
      "execution_count": null,
      "id": "37b1b8ab-ed84-42da-b1de-8ad5ade92775",
      "metadata": {
        "id": "37b1b8ab-ed84-42da-b1de-8ad5ade92775",
        "outputId": "dab0673d-9e79-4d0a-e926-475557d476bd"
      },
      "outputs": [
        {
          "name": "stdout",
          "output_type": "stream",
          "text": [
            "\n",
            ">>> Modelo: Árbol de Decisión\n",
            "              precision    recall  f1-score   support\n",
            "\n",
            "        High       0.10      0.06      0.07        18\n",
            "         Low       0.19      0.19      0.19        26\n",
            "      Medium       0.21      0.19      0.20        26\n",
            "        None       0.30      0.40      0.34        30\n",
            "\n",
            "    accuracy                           0.23       100\n",
            "   macro avg       0.20      0.21      0.20       100\n",
            "weighted avg       0.21      0.23      0.22       100\n",
            "\n"
          ]
        }
      ],
      "source": [
        "print(\"\\n>>> Modelo: Árbol de Decisión\")\n",
        "print(classification_report(y_test, rf_preds, target_names=[str(c) for c in le.classes_]))"
      ]
    },
    {
      "cell_type": "code",
      "execution_count": null,
      "id": "083b4149-ca37-413b-82d5-21b5e75c5217",
      "metadata": {
        "id": "083b4149-ca37-413b-82d5-21b5e75c5217"
      },
      "outputs": [],
      "source": [
        "cm = confusion_matrix(y_test, dt_preds)"
      ]
    },
    {
      "cell_type": "code",
      "execution_count": null,
      "id": "89aa6329-2cc8-4874-9edb-c837424a48e7",
      "metadata": {
        "id": "89aa6329-2cc8-4874-9edb-c837424a48e7",
        "outputId": "5d9cab1d-b178-40ab-a642-acb95530b886"
      },
      "outputs": [
        {
          "name": "stdout",
          "output_type": "stream",
          "text": [
            "Matriz de Confusión:\n",
            "\n",
            "        High  Low  Medium  None\n",
            "High       5    5       3     5\n",
            "Low        3    7       7     9\n",
            "Medium     5    6       7     8\n",
            "None       5    7       8    10\n"
          ]
        }
      ],
      "source": [
        "cm_df = pd.DataFrame(cm, index=le.classes_, columns=le.classes_)\n",
        "print(\"Matriz de Confusión:\\n\")\n",
        "print(cm_df)"
      ]
    },
    {
      "cell_type": "code",
      "execution_count": null,
      "id": "cbdf119e-81ee-41fe-9353-a2620da5a944",
      "metadata": {
        "id": "cbdf119e-81ee-41fe-9353-a2620da5a944"
      },
      "outputs": [],
      "source": []
    },
    {
      "cell_type": "markdown",
      "id": "b4462c50-9c88-47f8-8070-4c9ce161ce5d",
      "metadata": {
        "jp-MarkdownHeadingCollapsed": true,
        "id": "b4462c50-9c88-47f8-8070-4c9ce161ce5d"
      },
      "source": [
        "### k-Nearest Neighbors (kNN)"
      ]
    },
    {
      "cell_type": "code",
      "execution_count": null,
      "id": "17c0a343-b149-4504-83ba-6de0aa3d9cb8",
      "metadata": {
        "id": "17c0a343-b149-4504-83ba-6de0aa3d9cb8"
      },
      "outputs": [],
      "source": [
        "knn_model = KNeighborsClassifier()\n",
        "knn_model.fit(X_train, y_train)\n",
        "knn_preds = knn_model.predict(X_test)"
      ]
    },
    {
      "cell_type": "code",
      "execution_count": null,
      "id": "c2129053-48e0-43c1-9524-0dd9e38415a2",
      "metadata": {
        "id": "c2129053-48e0-43c1-9524-0dd9e38415a2",
        "outputId": "c3ae2634-97b6-4dd0-8ba9-13e668158c34"
      },
      "outputs": [
        {
          "name": "stdout",
          "output_type": "stream",
          "text": [
            "\n",
            ">>> Modelo: k-Nearest Neighbors\n",
            "              precision    recall  f1-score   support\n",
            "\n",
            "        High       0.10      0.06      0.07        18\n",
            "         Low       0.19      0.19      0.19        26\n",
            "      Medium       0.21      0.19      0.20        26\n",
            "        None       0.30      0.40      0.34        30\n",
            "\n",
            "    accuracy                           0.23       100\n",
            "   macro avg       0.20      0.21      0.20       100\n",
            "weighted avg       0.21      0.23      0.22       100\n",
            "\n"
          ]
        }
      ],
      "source": [
        "print(\"\\n>>> Modelo: k-Nearest Neighbors\")\n",
        "print(classification_report(y_test, rf_preds, target_names=[str(c) for c in le.classes_]))"
      ]
    },
    {
      "cell_type": "code",
      "execution_count": null,
      "id": "9aac402a-49a4-4223-a935-42de9b87a0ff",
      "metadata": {
        "id": "9aac402a-49a4-4223-a935-42de9b87a0ff"
      },
      "outputs": [],
      "source": [
        "cm = confusion_matrix(y_test, knn_preds)"
      ]
    },
    {
      "cell_type": "code",
      "execution_count": null,
      "id": "1a9f58a6-567f-47b4-85be-e48733c84cdb",
      "metadata": {
        "id": "1a9f58a6-567f-47b4-85be-e48733c84cdb",
        "outputId": "f143a46f-9d30-4d79-ecd9-370c24c08095"
      },
      "outputs": [
        {
          "name": "stdout",
          "output_type": "stream",
          "text": [
            "Matriz de Confusión:\n",
            "\n",
            "        High  Low  Medium  None\n",
            "High       2    7       3     6\n",
            "Low        4    8      11     3\n",
            "Medium     4    9       3    10\n",
            "None       7    9       5     9\n"
          ]
        }
      ],
      "source": [
        "cm_df = pd.DataFrame(cm, index=le.classes_, columns=le.classes_)\n",
        "print(\"Matriz de Confusión:\\n\")\n",
        "print(cm_df)"
      ]
    },
    {
      "cell_type": "code",
      "execution_count": null,
      "id": "8eb37f83-b115-4154-b2f3-c2abbd0d8da2",
      "metadata": {
        "id": "8eb37f83-b115-4154-b2f3-c2abbd0d8da2"
      },
      "outputs": [],
      "source": []
    },
    {
      "cell_type": "markdown",
      "id": "2ca70d66-bf4f-43fd-a1b7-df5c617458e2",
      "metadata": {
        "jp-MarkdownHeadingCollapsed": true,
        "id": "2ca70d66-bf4f-43fd-a1b7-df5c617458e2"
      },
      "source": [
        "### Regresión Logística"
      ]
    },
    {
      "cell_type": "code",
      "execution_count": null,
      "id": "d6519cc9-a3fb-4f50-9ec3-fdb9e3641f6f",
      "metadata": {
        "id": "d6519cc9-a3fb-4f50-9ec3-fdb9e3641f6f"
      },
      "outputs": [],
      "source": [
        "lr_model = LogisticRegression(max_iter=1000)\n",
        "lr_model.fit(X_train, y_train)\n",
        "lr_preds = lr_model.predict(X_test)"
      ]
    },
    {
      "cell_type": "code",
      "execution_count": null,
      "id": "8956bfa9-6a5e-4727-8098-0354d816782e",
      "metadata": {
        "id": "8956bfa9-6a5e-4727-8098-0354d816782e",
        "outputId": "8babaf3d-e02d-4504-ffec-e0fd4ee674c2"
      },
      "outputs": [
        {
          "name": "stdout",
          "output_type": "stream",
          "text": [
            "\n",
            ">>> Modelo: Regresión Logística\n",
            "              precision    recall  f1-score   support\n",
            "\n",
            "        High       0.20      0.12      0.15        17\n",
            "         Low       0.31      0.30      0.30        27\n",
            "      Medium       0.25      0.23      0.24        26\n",
            "        None       0.33      0.43      0.37        30\n",
            "\n",
            "    accuracy                           0.29       100\n",
            "   macro avg       0.27      0.27      0.27       100\n",
            "weighted avg       0.28      0.29      0.28       100\n",
            "\n"
          ]
        }
      ],
      "source": [
        "print(\"\\n>>> Modelo: Regresión Logística\")\n",
        "print(classification_report(y_test, rf_preds, target_names=[str(c) for c in le.classes_]))"
      ]
    },
    {
      "cell_type": "code",
      "execution_count": null,
      "id": "ca53d751-ca3f-41fd-82e7-b3abb430f38a",
      "metadata": {
        "id": "ca53d751-ca3f-41fd-82e7-b3abb430f38a"
      },
      "outputs": [],
      "source": [
        "cm = confusion_matrix(y_test, lr_preds)"
      ]
    },
    {
      "cell_type": "code",
      "execution_count": null,
      "id": "cde48c3d-27de-4359-a35b-3801c0841b5c",
      "metadata": {
        "id": "cde48c3d-27de-4359-a35b-3801c0841b5c",
        "outputId": "d0e011db-6fd2-4b22-a29f-81c6418b67bd"
      },
      "outputs": [
        {
          "name": "stdout",
          "output_type": "stream",
          "text": [
            "Matriz de Confusión:\n",
            "\n",
            "        High  Low  Medium  None\n",
            "High       0    5       0    12\n",
            "Low        0    4       2    21\n",
            "Medium     0   10       1    15\n",
            "None       0    9       1    20\n"
          ]
        }
      ],
      "source": [
        "cm_df = pd.DataFrame(cm, index=le.classes_, columns=le.classes_)\n",
        "print(\"Matriz de Confusión:\\n\")\n",
        "print(cm_df)"
      ]
    },
    {
      "cell_type": "code",
      "execution_count": null,
      "id": "ce559975-c333-4cc9-a686-154afefd7b6a",
      "metadata": {
        "id": "ce559975-c333-4cc9-a686-154afefd7b6a"
      },
      "outputs": [],
      "source": []
    },
    {
      "cell_type": "markdown",
      "id": "bfbf00b5-375a-4494-8918-f1d3a7ffba54",
      "metadata": {
        "jp-MarkdownHeadingCollapsed": true,
        "id": "bfbf00b5-375a-4494-8918-f1d3a7ffba54"
      },
      "source": [
        "### Análisis de resultados"
      ]
    },
    {
      "cell_type": "markdown",
      "id": "a622e5d4-d7e6-4d1a-bdf9-8f15d8d225b8",
      "metadata": {
        "id": "a622e5d4-d7e6-4d1a-bdf9-8f15d8d225b8"
      },
      "source": [
        "Todos los modelos usados presentan métricas idénticas en cuanto a precisión, recall, F1-score y accuracy. Esto sugiere un comportamiento homogéneo, donde ningún algoritmo logra captar patrones significativos en los datos."
      ]
    },
    {
      "cell_type": "markdown",
      "id": "5e1a50d7-77aa-48ad-8930-27229d62022c",
      "metadata": {
        "id": "5e1a50d7-77aa-48ad-8930-27229d62022c"
      },
      "source": [
        "Razones probables:\n",
        "- Desbalance de clases: la clase \"None\" tiene más ejemplos y domina la predicción, mientras que la clase \"High\" es pobremente representada (F1 ≈ 0.08).\n",
        "- Baja capacidad predictiva de los features: los atributos disponibles no discriminan bien entre clases.\n",
        "- Poca variabilidad entre modelos: como los algoritmos no logran aprender reglas útiles, todos se comportan de forma similar."
      ]
    },
    {
      "cell_type": "markdown",
      "id": "b858cc56-6114-4262-85e3-5253f7084ca6",
      "metadata": {
        "id": "b858cc56-6114-4262-85e3-5253f7084ca6"
      },
      "source": [
        "Análisis por Clase:\n",
        "- None:\tSiempre con el mejor recall (~ 0.47) y precisión (~ 0.33).\n",
        "- Low:\tPrecisión aceptable (~ 0.35), pero con errores frecuentes.\n",
        "- Medium: Rendimiento débil; el modelo suele confundirla con \"None\".\n",
        "- High:\tMuy bajo recall y precisión: la mayoría de los modelos no la predicen bien."
      ]
    },
    {
      "cell_type": "markdown",
      "id": "3b9eba63-365c-4ab0-82b1-8f736fef45fc",
      "metadata": {
        "id": "3b9eba63-365c-4ab0-82b1-8f736fef45fc"
      },
      "source": [
        "Todos los modelos alcanzan un accuracy de 30%, sin diferencias notables entre ellos.\n",
        "- La clase mayoritaria (\"None\") domina las predicciones, indicando un problema de desbalance de clases.\n",
        "- Ningún modelo puede considerarse superior con los datos actuales."
      ]
    },
    {
      "cell_type": "raw",
      "id": "cec47c7d-c424-496c-85ae-721540f8ac92",
      "metadata": {
        "id": "cec47c7d-c424-496c-85ae-721540f8ac92"
      },
      "source": []
    },
    {
      "cell_type": "markdown",
      "id": "81a92921-ba3b-46e7-b17f-124f56d4474a",
      "metadata": {
        "id": "81a92921-ba3b-46e7-b17f-124f56d4474a"
      },
      "source": [
        "## K-Fold Cross Validation"
      ]
    },
    {
      "cell_type": "markdown",
      "id": "72f36ab5-0fc0-402b-b523-aba4d84b3824",
      "metadata": {
        "id": "72f36ab5-0fc0-402b-b523-aba4d84b3824"
      },
      "source": [
        "Como la cantidad de datos de la muestra es relativamente limitada, probamos con este remuestreo para reevaluar los modelos, buscando que la estimación esté menos sesgada hacia los valores None."
      ]
    },
    {
      "cell_type": "markdown",
      "id": "d0022b8f-c44b-4979-bf1b-465aadf816ff",
      "metadata": {
        "id": "d0022b8f-c44b-4979-bf1b-465aadf816ff"
      },
      "source": [
        "Usamos StratifiedKFold ya que encontramos que es mejor que KFold puro cuando hay clases desbalanceadas, porque mantiene la proporción de clases en cada fold."
      ]
    },
    {
      "cell_type": "code",
      "execution_count": null,
      "id": "238e9217-08c6-4777-91bd-1568781c0cd2",
      "metadata": {
        "id": "238e9217-08c6-4777-91bd-1568781c0cd2"
      },
      "outputs": [],
      "source": [
        "kf = StratifiedKFold(n_splits=5, shuffle=True, random_state=42)"
      ]
    },
    {
      "cell_type": "markdown",
      "id": "14d1430c-e1ae-47cf-a50a-56bd2fcc6fb6",
      "metadata": {
        "jp-MarkdownHeadingCollapsed": true,
        "id": "14d1430c-e1ae-47cf-a50a-56bd2fcc6fb6"
      },
      "source": [
        "### Random Forest"
      ]
    },
    {
      "cell_type": "code",
      "execution_count": null,
      "id": "97486b82-5c0e-465d-809b-d96ff0b7013a",
      "metadata": {
        "id": "97486b82-5c0e-465d-809b-d96ff0b7013a"
      },
      "outputs": [],
      "source": [
        "rf_model = RandomForestClassifier()\n",
        "rf_preds_all = []\n",
        "rf_true_all = []"
      ]
    },
    {
      "cell_type": "code",
      "execution_count": null,
      "id": "c3ec4ce5-bb94-48e9-9816-9d1d1ccbbabe",
      "metadata": {
        "id": "c3ec4ce5-bb94-48e9-9816-9d1d1ccbbabe",
        "outputId": "3975bb8e-7490-45f1-dd96-fd510da30f9f"
      },
      "outputs": [
        {
          "name": "stdout",
          "output_type": "stream",
          "text": [
            "\n",
            "--- Fold 1\n",
            "              precision    recall  f1-score   support\n",
            "\n",
            "           0       0.17      0.11      0.13        18\n",
            "           1       0.36      0.35      0.35        26\n",
            "           2       0.23      0.23      0.23        26\n",
            "           3       0.32      0.40      0.36        30\n",
            "\n",
            "    accuracy                           0.29       100\n",
            "   macro avg       0.27      0.27      0.27       100\n",
            "weighted avg       0.28      0.29      0.28       100\n",
            "\n",
            "Matriz de confusión:\n",
            " [[ 2  3  7  6]\n",
            " [ 2  9  4 11]\n",
            " [ 6  6  6  8]\n",
            " [ 2  7  9 12]]\n",
            "\n",
            "--- Fold 2\n",
            "              precision    recall  f1-score   support\n",
            "\n",
            "           0       0.27      0.17      0.21        18\n",
            "           1       0.44      0.42      0.43        26\n",
            "           2       0.29      0.35      0.32        26\n",
            "           3       0.36      0.40      0.38        30\n",
            "\n",
            "    accuracy                           0.35       100\n",
            "   macro avg       0.34      0.33      0.33       100\n",
            "weighted avg       0.35      0.35      0.35       100\n",
            "\n",
            "Matriz de confusión:\n",
            " [[ 3  2  4  9]\n",
            " [ 3 11  6  6]\n",
            " [ 2  9  9  6]\n",
            " [ 3  3 12 12]]\n",
            "\n",
            "--- Fold 3\n",
            "              precision    recall  f1-score   support\n",
            "\n",
            "           0       0.08      0.06      0.07        18\n",
            "           1       0.31      0.35      0.33        26\n",
            "           2       0.24      0.27      0.25        26\n",
            "           3       0.27      0.27      0.27        30\n",
            "\n",
            "    accuracy                           0.25       100\n",
            "   macro avg       0.23      0.23      0.23       100\n",
            "weighted avg       0.24      0.25      0.24       100\n",
            "\n",
            "Matriz de confusión:\n",
            " [[ 1  3  4 10]\n",
            " [ 3  9 10  4]\n",
            " [ 4  7  7  8]\n",
            " [ 4 10  8  8]]\n",
            "\n",
            "--- Fold 4\n",
            "              precision    recall  f1-score   support\n",
            "\n",
            "           0       0.00      0.00      0.00        17\n",
            "           1       0.33      0.30      0.31        27\n",
            "           2       0.21      0.23      0.22        26\n",
            "           3       0.31      0.40      0.35        30\n",
            "\n",
            "    accuracy                           0.26       100\n",
            "   macro avg       0.21      0.23      0.22       100\n",
            "weighted avg       0.24      0.26      0.25       100\n",
            "\n",
            "Matriz de confusión:\n",
            " [[ 0  5  6  6]\n",
            " [ 3  8  8  8]\n",
            " [ 2  5  6 13]\n",
            " [ 4  6  8 12]]\n",
            "\n",
            "--- Fold 5\n",
            "              precision    recall  f1-score   support\n",
            "\n",
            "           0       0.23      0.18      0.20        17\n",
            "           1       0.36      0.44      0.40        27\n",
            "           2       0.19      0.12      0.14        26\n",
            "           3       0.45      0.57      0.50        30\n",
            "\n",
            "    accuracy                           0.35       100\n",
            "   macro avg       0.31      0.33      0.31       100\n",
            "weighted avg       0.32      0.35      0.33       100\n",
            "\n",
            "Matriz de confusión:\n",
            " [[ 3  3  5  6]\n",
            " [ 4 12  3  8]\n",
            " [ 3 13  3  7]\n",
            " [ 3  5  5 17]]\n"
          ]
        }
      ],
      "source": [
        "fold = 1\n",
        "for train_idx, test_idx in kf.split(X, y):\n",
        "    X_train, X_test = X.iloc[train_idx], X.iloc[test_idx]\n",
        "    y_train, y_test = y.iloc[train_idx], y.iloc[test_idx]\n",
        "\n",
        "    rf_model.fit(X_train, y_train)\n",
        "    preds = rf_model.predict(X_test)\n",
        "\n",
        "    print(f\"\\n--- Fold {fold}\")\n",
        "    print(classification_report(y_test, preds))\n",
        "    print(\"Matriz de confusión:\\n\", confusion_matrix(y_test, preds))\n",
        "\n",
        "    rf_preds_all.extend(preds)\n",
        "    rf_true_all.extend(y_test)\n",
        "    fold += 1"
      ]
    },
    {
      "cell_type": "code",
      "execution_count": null,
      "id": "ff235cc8-2182-4fd1-9e20-ddda1284ddf7",
      "metadata": {
        "id": "ff235cc8-2182-4fd1-9e20-ddda1284ddf7",
        "outputId": "0af52588-d8f6-437d-d712-a2288ecaace4"
      },
      "outputs": [
        {
          "name": "stdout",
          "output_type": "stream",
          "text": [
            "\n",
            ">>> Promedio general - RANDOM FOREST\n",
            "              precision    recall  f1-score   support\n",
            "\n",
            "           0       0.16      0.10      0.12        88\n",
            "           1       0.36      0.37      0.37       132\n",
            "           2       0.24      0.24      0.24       130\n",
            "           3       0.34      0.41      0.37       150\n",
            "\n",
            "    accuracy                           0.30       500\n",
            "   macro avg       0.28      0.28      0.28       500\n",
            "weighted avg       0.29      0.30      0.29       500\n",
            "\n",
            "Matriz de confusión total:\n",
            " [[ 9 16 26 37]\n",
            " [15 49 31 37]\n",
            " [17 40 31 42]\n",
            " [16 31 42 61]]\n"
          ]
        }
      ],
      "source": [
        "print(\"\\n>>> Promedio general - RANDOM FOREST\")\n",
        "print(classification_report(rf_true_all, rf_preds_all))\n",
        "print(\"Matriz de confusión total:\\n\", confusion_matrix(rf_true_all, rf_preds_all))"
      ]
    },
    {
      "cell_type": "code",
      "execution_count": null,
      "id": "d4d60e19-6d6d-4650-8670-8a6a5986f1e0",
      "metadata": {
        "id": "d4d60e19-6d6d-4650-8670-8a6a5986f1e0"
      },
      "outputs": [],
      "source": []
    },
    {
      "cell_type": "markdown",
      "id": "9859fa14-0fa3-482f-a72f-68ff92fe3301",
      "metadata": {
        "jp-MarkdownHeadingCollapsed": true,
        "id": "9859fa14-0fa3-482f-a72f-68ff92fe3301"
      },
      "source": [
        "### Árbol de Decisión"
      ]
    },
    {
      "cell_type": "code",
      "execution_count": null,
      "id": "90920a25-d926-4d7d-ad5b-06ad919ba25d",
      "metadata": {
        "id": "90920a25-d926-4d7d-ad5b-06ad919ba25d"
      },
      "outputs": [],
      "source": [
        "dt_model = DecisionTreeClassifier()\n",
        "dt_preds_all = []\n",
        "dt_true_all = []"
      ]
    },
    {
      "cell_type": "code",
      "execution_count": null,
      "id": "2a09157a-12bb-4669-9b53-53ed53bf09a7",
      "metadata": {
        "id": "2a09157a-12bb-4669-9b53-53ed53bf09a7",
        "outputId": "073e1317-340b-4811-c6c5-c637ca1c3e68"
      },
      "outputs": [
        {
          "name": "stdout",
          "output_type": "stream",
          "text": [
            "\n",
            "--- Fold 1\n",
            "              precision    recall  f1-score   support\n",
            "\n",
            "           0       0.09      0.11      0.10        18\n",
            "           1       0.24      0.27      0.25        26\n",
            "           2       0.29      0.23      0.26        26\n",
            "           3       0.26      0.23      0.25        30\n",
            "\n",
            "    accuracy                           0.22       100\n",
            "   macro avg       0.22      0.21      0.21       100\n",
            "weighted avg       0.23      0.22      0.22       100\n",
            "\n",
            "Matriz de confusión:\n",
            " [[ 2  6  5  5]\n",
            " [ 6  7  3 10]\n",
            " [ 8  7  6  5]\n",
            " [ 7  9  7  7]]\n",
            "\n",
            "--- Fold 2\n",
            "              precision    recall  f1-score   support\n",
            "\n",
            "           0       0.14      0.17      0.15        18\n",
            "           1       0.20      0.12      0.15        26\n",
            "           2       0.27      0.35      0.31        26\n",
            "           3       0.27      0.27      0.27        30\n",
            "\n",
            "    accuracy                           0.23       100\n",
            "   macro avg       0.22      0.22      0.22       100\n",
            "weighted avg       0.23      0.23      0.22       100\n",
            "\n",
            "Matriz de confusión:\n",
            " [[ 3  2  4  9]\n",
            " [ 7  3 10  6]\n",
            " [ 5  5  9  7]\n",
            " [ 7  5 10  8]]\n",
            "\n",
            "--- Fold 3\n",
            "              precision    recall  f1-score   support\n",
            "\n",
            "           0       0.22      0.28      0.24        18\n",
            "           1       0.39      0.50      0.44        26\n",
            "           2       0.40      0.23      0.29        26\n",
            "           3       0.21      0.20      0.20        30\n",
            "\n",
            "    accuracy                           0.30       100\n",
            "   macro avg       0.30      0.30      0.30       100\n",
            "weighted avg       0.31      0.30      0.30       100\n",
            "\n",
            "Matriz de confusión:\n",
            " [[ 5  4  1  8]\n",
            " [ 4 13  4  5]\n",
            " [ 4  6  6 10]\n",
            " [10 10  4  6]]\n",
            "\n",
            "--- Fold 4\n",
            "              precision    recall  f1-score   support\n",
            "\n",
            "           0       0.11      0.12      0.11        17\n",
            "           1       0.37      0.26      0.30        27\n",
            "           2       0.21      0.23      0.22        26\n",
            "           3       0.26      0.30      0.28        30\n",
            "\n",
            "    accuracy                           0.24       100\n",
            "   macro avg       0.24      0.23      0.23       100\n",
            "weighted avg       0.25      0.24      0.24       100\n",
            "\n",
            "Matriz de confusión:\n",
            " [[ 2  5  6  4]\n",
            " [ 3  7  8  9]\n",
            " [ 6  2  6 12]\n",
            " [ 8  5  8  9]]\n",
            "\n",
            "--- Fold 5\n",
            "              precision    recall  f1-score   support\n",
            "\n",
            "           0       0.32      0.35      0.33        17\n",
            "           1       0.43      0.37      0.40        27\n",
            "           2       0.28      0.19      0.23        26\n",
            "           3       0.30      0.40      0.34        30\n",
            "\n",
            "    accuracy                           0.33       100\n",
            "   macro avg       0.33      0.33      0.33       100\n",
            "weighted avg       0.33      0.33      0.33       100\n",
            "\n",
            "Matriz de confusión:\n",
            " [[ 6  3  1  7]\n",
            " [ 4 10  3 10]\n",
            " [ 5  5  5 11]\n",
            " [ 4  5  9 12]]\n"
          ]
        }
      ],
      "source": [
        "fold = 1\n",
        "for train_idx, test_idx in kf.split(X, y):\n",
        "    X_train, X_test = X.iloc[train_idx], X.iloc[test_idx]\n",
        "    y_train, y_test = y.iloc[train_idx], y.iloc[test_idx]\n",
        "\n",
        "    dt_model.fit(X_train, y_train)\n",
        "    preds = dt_model.predict(X_test)\n",
        "\n",
        "    print(f\"\\n--- Fold {fold}\")\n",
        "    print(classification_report(y_test, preds))\n",
        "    print(\"Matriz de confusión:\\n\", confusion_matrix(y_test, preds))\n",
        "\n",
        "    dt_preds_all.extend(preds)\n",
        "    dt_true_all.extend(y_test)\n",
        "    fold += 1"
      ]
    },
    {
      "cell_type": "code",
      "execution_count": null,
      "id": "06eeefc3-5d20-4bae-967b-563186dcb954",
      "metadata": {
        "id": "06eeefc3-5d20-4bae-967b-563186dcb954",
        "outputId": "f9649369-fb2b-45cb-a1e8-51d0c9bdb051"
      },
      "outputs": [
        {
          "name": "stdout",
          "output_type": "stream",
          "text": [
            "\n",
            ">>> Promedio general - ÁRBOL DE DECISIÓN\n",
            "              precision    recall  f1-score   support\n",
            "\n",
            "           0       0.17      0.20      0.19        88\n",
            "           1       0.34      0.30      0.32       132\n",
            "           2       0.28      0.25      0.26       130\n",
            "           3       0.26      0.28      0.27       150\n",
            "\n",
            "    accuracy                           0.26       500\n",
            "   macro avg       0.26      0.26      0.26       500\n",
            "weighted avg       0.27      0.26      0.27       500\n",
            "\n",
            "Matriz de confusión total:\n",
            " [[18 20 17 33]\n",
            " [24 40 28 40]\n",
            " [28 25 32 45]\n",
            " [36 34 38 42]]\n"
          ]
        }
      ],
      "source": [
        "print(\"\\n>>> Promedio general - ÁRBOL DE DECISIÓN\")\n",
        "print(classification_report(dt_true_all, dt_preds_all))\n",
        "print(\"Matriz de confusión total:\\n\", confusion_matrix(dt_true_all, dt_preds_all))"
      ]
    },
    {
      "cell_type": "code",
      "execution_count": null,
      "id": "97e64a7b-8f85-45dd-9067-bdaad61e4462",
      "metadata": {
        "id": "97e64a7b-8f85-45dd-9067-bdaad61e4462"
      },
      "outputs": [],
      "source": []
    },
    {
      "cell_type": "markdown",
      "id": "bb5f0d59-13c8-469c-adc8-b30ceb86174c",
      "metadata": {
        "jp-MarkdownHeadingCollapsed": true,
        "id": "bb5f0d59-13c8-469c-adc8-b30ceb86174c"
      },
      "source": [
        "### k-Nearest Neighbors (kNN)"
      ]
    },
    {
      "cell_type": "code",
      "execution_count": null,
      "id": "a46c3480-bd17-45d9-8f87-89971d11df37",
      "metadata": {
        "id": "a46c3480-bd17-45d9-8f87-89971d11df37"
      },
      "outputs": [],
      "source": [
        "knn_model = KNeighborsClassifier()\n",
        "knn_preds_all = []\n",
        "knn_true_all = []"
      ]
    },
    {
      "cell_type": "code",
      "execution_count": null,
      "id": "d59d2370-e88d-41d6-87a6-7366978ca97a",
      "metadata": {
        "id": "d59d2370-e88d-41d6-87a6-7366978ca97a",
        "outputId": "1c741f10-acd6-4d18-93cb-4e269be9d63d"
      },
      "outputs": [
        {
          "name": "stdout",
          "output_type": "stream",
          "text": [
            "\n",
            "--- Fold 1\n",
            "              precision    recall  f1-score   support\n",
            "\n",
            "           0       0.16      0.22      0.19        18\n",
            "           1       0.18      0.19      0.19        26\n",
            "           2       0.25      0.19      0.22        26\n",
            "           3       0.33      0.30      0.32        30\n",
            "\n",
            "    accuracy                           0.23       100\n",
            "   macro avg       0.23      0.23      0.23       100\n",
            "weighted avg       0.24      0.23      0.23       100\n",
            "\n",
            "Matriz de confusión:\n",
            " [[ 4  6  4  4]\n",
            " [ 9  5  5  7]\n",
            " [ 9  5  5  7]\n",
            " [ 3 12  6  9]]\n",
            "\n",
            "--- Fold 2\n",
            "              precision    recall  f1-score   support\n",
            "\n",
            "           0       0.12      0.11      0.12        18\n",
            "           1       0.21      0.23      0.22        26\n",
            "           2       0.17      0.19      0.18        26\n",
            "           3       0.42      0.37      0.39        30\n",
            "\n",
            "    accuracy                           0.24       100\n",
            "   macro avg       0.23      0.23      0.23       100\n",
            "weighted avg       0.25      0.24      0.24       100\n",
            "\n",
            "Matriz de confusión:\n",
            " [[ 2  8  5  3]\n",
            " [ 6  6 10  4]\n",
            " [ 4  9  5  8]\n",
            " [ 4  5 10 11]]\n",
            "\n",
            "--- Fold 3\n",
            "              precision    recall  f1-score   support\n",
            "\n",
            "           0       0.05      0.06      0.05        18\n",
            "           1       0.22      0.31      0.25        26\n",
            "           2       0.12      0.12      0.12        26\n",
            "           3       0.29      0.17      0.21        30\n",
            "\n",
            "    accuracy                           0.17       100\n",
            "   macro avg       0.17      0.16      0.16       100\n",
            "weighted avg       0.19      0.17      0.17       100\n",
            "\n",
            "Matriz de confusión:\n",
            " [[ 1  8  7  2]\n",
            " [ 8  8  6  4]\n",
            " [ 5 12  3  6]\n",
            " [ 8  9  8  5]]\n",
            "\n",
            "--- Fold 4\n",
            "              precision    recall  f1-score   support\n",
            "\n",
            "           0       0.13      0.12      0.12        17\n",
            "           1       0.29      0.37      0.33        27\n",
            "           2       0.25      0.23      0.24        26\n",
            "           3       0.37      0.33      0.35        30\n",
            "\n",
            "    accuracy                           0.28       100\n",
            "   macro avg       0.26      0.26      0.26       100\n",
            "weighted avg       0.28      0.28      0.28       100\n",
            "\n",
            "Matriz de confusión:\n",
            " [[ 2  9  5  1]\n",
            " [ 3 10  6  8]\n",
            " [ 3  9  6  8]\n",
            " [ 7  6  7 10]]\n",
            "\n",
            "--- Fold 5\n",
            "              precision    recall  f1-score   support\n",
            "\n",
            "           0       0.35      0.35      0.35        17\n",
            "           1       0.31      0.30      0.30        27\n",
            "           2       0.37      0.38      0.38        26\n",
            "           3       0.33      0.33      0.33        30\n",
            "\n",
            "    accuracy                           0.34       100\n",
            "   macro avg       0.34      0.34      0.34       100\n",
            "weighted avg       0.34      0.34      0.34       100\n",
            "\n",
            "Matriz de confusión:\n",
            " [[ 6  1  6  4]\n",
            " [ 7  8  3  9]\n",
            " [ 1  8 10  7]\n",
            " [ 3  9  8 10]]\n"
          ]
        }
      ],
      "source": [
        "fold = 1\n",
        "for train_idx, test_idx in kf.split(X, y):\n",
        "    X_train, X_test = X.iloc[train_idx], X.iloc[test_idx]\n",
        "    y_train, y_test = y.iloc[train_idx], y.iloc[test_idx]\n",
        "\n",
        "    knn_model.fit(X_train, y_train)\n",
        "    preds = knn_model.predict(X_test)\n",
        "\n",
        "    print(f\"\\n--- Fold {fold}\")\n",
        "    print(classification_report(y_test, preds))\n",
        "    print(\"Matriz de confusión:\\n\", confusion_matrix(y_test, preds))\n",
        "\n",
        "    knn_preds_all.extend(preds)\n",
        "    knn_true_all.extend(y_test)\n",
        "    fold += 1"
      ]
    },
    {
      "cell_type": "code",
      "execution_count": null,
      "id": "2fbaedd6-3048-416f-975b-276fbaa4d934",
      "metadata": {
        "id": "2fbaedd6-3048-416f-975b-276fbaa4d934",
        "outputId": "12d8fd1e-74f1-4c64-eca1-0cd44f545b55"
      },
      "outputs": [
        {
          "name": "stdout",
          "output_type": "stream",
          "text": [
            "\n",
            ">>> Promedio general - KNN\n",
            "              precision    recall  f1-score   support\n",
            "\n",
            "           0       0.16      0.17      0.16        88\n",
            "           1       0.24      0.28      0.26       132\n",
            "           2       0.23      0.22      0.23       130\n",
            "           3       0.35      0.30      0.32       150\n",
            "\n",
            "    accuracy                           0.25       500\n",
            "   macro avg       0.25      0.24      0.24       500\n",
            "weighted avg       0.26      0.25      0.25       500\n",
            "\n",
            "Matriz de confusión total:\n",
            " [[15 32 27 14]\n",
            " [33 37 30 32]\n",
            " [22 43 29 36]\n",
            " [25 41 39 45]]\n"
          ]
        }
      ],
      "source": [
        "print(\"\\n>>> Promedio general - KNN\")\n",
        "print(classification_report(knn_true_all, knn_preds_all))\n",
        "print(\"Matriz de confusión total:\\n\", confusion_matrix(knn_true_all, knn_preds_all))"
      ]
    },
    {
      "cell_type": "code",
      "execution_count": null,
      "id": "1cc95e44-2c52-4127-98d4-3940c4cfe734",
      "metadata": {
        "id": "1cc95e44-2c52-4127-98d4-3940c4cfe734"
      },
      "outputs": [],
      "source": []
    },
    {
      "cell_type": "markdown",
      "id": "0e445964-1801-4337-aeec-349d4328c8a6",
      "metadata": {
        "jp-MarkdownHeadingCollapsed": true,
        "id": "0e445964-1801-4337-aeec-349d4328c8a6"
      },
      "source": [
        "### Regresión logística"
      ]
    },
    {
      "cell_type": "code",
      "execution_count": null,
      "id": "4d77175c-4058-4d7e-a6af-1af3ad77d36e",
      "metadata": {
        "id": "4d77175c-4058-4d7e-a6af-1af3ad77d36e"
      },
      "outputs": [],
      "source": [
        "lr_model = LogisticRegression(max_iter=1000)\n",
        "lr_preds_all = []\n",
        "lr_true_all = []"
      ]
    },
    {
      "cell_type": "code",
      "execution_count": null,
      "id": "61afbe95-2af2-462e-9d6d-eb3c8a78ff51",
      "metadata": {
        "id": "61afbe95-2af2-462e-9d6d-eb3c8a78ff51",
        "outputId": "128339d7-fdb3-4fb9-a7e1-5e55226b518c"
      },
      "outputs": [
        {
          "name": "stdout",
          "output_type": "stream",
          "text": [
            "\n",
            "--- Fold 1\n",
            "              precision    recall  f1-score   support\n",
            "\n",
            "           0       0.00      0.00      0.00        18\n",
            "           1       0.38      0.31      0.34        26\n",
            "           2       0.00      0.00      0.00        26\n",
            "           3       0.37      0.90      0.52        30\n",
            "\n",
            "    accuracy                           0.35       100\n",
            "   macro avg       0.19      0.30      0.22       100\n",
            "weighted avg       0.21      0.35      0.25       100\n",
            "\n",
            "Matriz de confusión:\n",
            " [[ 0  3  1 14]\n",
            " [ 0  8  4 14]\n",
            " [ 0  8  0 18]\n",
            " [ 0  2  1 27]]\n",
            "\n",
            "--- Fold 2\n",
            "              precision    recall  f1-score   support\n",
            "\n",
            "           0       0.00      0.00      0.00        18\n",
            "           1       0.29      0.38      0.33        26\n",
            "           2       0.50      0.08      0.13        26\n",
            "           3       0.33      0.67      0.44        30\n",
            "\n",
            "    accuracy                           0.32       100\n",
            "   macro avg       0.28      0.28      0.23       100\n",
            "weighted avg       0.30      0.32      0.25       100\n",
            "\n",
            "Matriz de confusión:\n",
            " [[ 0  6  1 11]\n",
            " [ 0 10  0 16]\n",
            " [ 0 10  2 14]\n",
            " [ 0  9  1 20]]\n",
            "\n",
            "--- Fold 3\n",
            "              precision    recall  f1-score   support\n",
            "\n",
            "           0       0.00      0.00      0.00        18\n",
            "           1       0.35      0.31      0.33        26\n",
            "           2       0.35      0.23      0.28        26\n",
            "           3       0.33      0.67      0.44        30\n",
            "\n",
            "    accuracy                           0.34       100\n",
            "   macro avg       0.26      0.30      0.26       100\n",
            "weighted avg       0.28      0.34      0.29       100\n",
            "\n",
            "Matriz de confusión:\n",
            " [[ 0  5  3 10]\n",
            " [ 0  8  3 15]\n",
            " [ 0  5  6 15]\n",
            " [ 0  5  5 20]]\n",
            "\n",
            "--- Fold 4\n",
            "              precision    recall  f1-score   support\n",
            "\n",
            "           0       0.00      0.00      0.00        17\n",
            "           1       0.37      0.26      0.30        27\n",
            "           2       0.29      0.19      0.23        26\n",
            "           3       0.34      0.73      0.47        30\n",
            "\n",
            "    accuracy                           0.34       100\n",
            "   macro avg       0.25      0.30      0.25       100\n",
            "weighted avg       0.28      0.34      0.28       100\n",
            "\n",
            "Matriz de confusión:\n",
            " [[ 0  6  3  8]\n",
            " [ 0  7  5 15]\n",
            " [ 0  2  5 19]\n",
            " [ 0  4  4 22]]\n",
            "\n",
            "--- Fold 5\n",
            "              precision    recall  f1-score   support\n",
            "\n",
            "           0       0.00      0.00      0.00        17\n",
            "           1       0.14      0.15      0.15        27\n",
            "           2       0.25      0.04      0.07        26\n",
            "           3       0.29      0.67      0.41        30\n",
            "\n",
            "    accuracy                           0.25       100\n",
            "   macro avg       0.17      0.21      0.16       100\n",
            "weighted avg       0.19      0.25      0.18       100\n",
            "\n",
            "Matriz de confusión:\n",
            " [[ 0  5  0 12]\n",
            " [ 0  4  2 21]\n",
            " [ 0 10  1 15]\n",
            " [ 0  9  1 20]]\n"
          ]
        }
      ],
      "source": [
        "fold = 1\n",
        "for train_idx, test_idx in kf.split(X, y):\n",
        "    X_train, X_test = X.iloc[train_idx], X.iloc[test_idx]\n",
        "    y_train, y_test = y.iloc[train_idx], y.iloc[test_idx]\n",
        "\n",
        "    lr_model.fit(X_train, y_train)\n",
        "    preds = lr_model.predict(X_test)\n",
        "\n",
        "    print(f\"\\n--- Fold {fold}\")\n",
        "    print(classification_report(y_test, preds, zero_division=0))\n",
        "    print(\"Matriz de confusión:\\n\", confusion_matrix(y_test, preds))\n",
        "\n",
        "    lr_preds_all.extend(preds)\n",
        "    lr_true_all.extend(y_test)\n",
        "    fold += 1"
      ]
    },
    {
      "cell_type": "code",
      "execution_count": null,
      "id": "2172ee43-5daf-4a4f-b86f-3a9678806e7a",
      "metadata": {
        "id": "2172ee43-5daf-4a4f-b86f-3a9678806e7a",
        "outputId": "06b87cad-8e15-4097-cf30-842fb69129e8"
      },
      "outputs": [
        {
          "name": "stdout",
          "output_type": "stream",
          "text": [
            "\n",
            ">>> Promedio general - REGRESIÓN LOGÍSTICA\n",
            "              precision    recall  f1-score   support\n",
            "\n",
            "           0       0.00      0.00      0.00        88\n",
            "           1       0.29      0.28      0.29       132\n",
            "           2       0.29      0.11      0.16       130\n",
            "           3       0.33      0.73      0.46       150\n",
            "\n",
            "    accuracy                           0.32       500\n",
            "   macro avg       0.23      0.28      0.23       500\n",
            "weighted avg       0.25      0.32      0.25       500\n",
            "\n",
            "Matriz de confusión total:\n",
            " [[  0  25   8  55]\n",
            " [  0  37  14  81]\n",
            " [  0  35  14  81]\n",
            " [  0  29  12 109]]\n"
          ]
        }
      ],
      "source": [
        "print(\"\\n>>> Promedio general - REGRESIÓN LOGÍSTICA\")\n",
        "print(classification_report(lr_true_all, lr_preds_all, zero_division=0))\n",
        "print(\"Matriz de confusión total:\\n\", confusion_matrix(lr_true_all, lr_preds_all))"
      ]
    },
    {
      "cell_type": "code",
      "execution_count": null,
      "id": "aa93d882-b68a-4aab-bdd7-91d67f411ed4",
      "metadata": {
        "id": "aa93d882-b68a-4aab-bdd7-91d67f411ed4"
      },
      "outputs": [],
      "source": []
    },
    {
      "cell_type": "markdown",
      "id": "d1f0dc27-1728-4d35-93f2-19e4047f4d02",
      "metadata": {
        "id": "d1f0dc27-1728-4d35-93f2-19e4047f4d02"
      },
      "source": [
        "### Análisis de Resultados usando K-Fold"
      ]
    },
    {
      "cell_type": "markdown",
      "id": "695ae094-50ba-4ce9-9e39-935aa2838193",
      "metadata": {
        "id": "695ae094-50ba-4ce9-9e39-935aa2838193"
      },
      "source": [
        "**Random forest**\n",
        "- Accuracy: 0.30\n",
        "- Macro avg f1: 0.28\n",
        "- Clase mejor predicha: Clase 3 (recall 0.41)\n",
        "- Clase peor predicha: Clase 0 (f1-score 0.12)\n",
        "- Es el modelo más balanceado, aunque sigue teniendo baja performance. Predice algo mejor que los otros (aunque por poco) en la clase 3. La clase 0 está claramente desatendida."
      ]
    },
    {
      "cell_type": "markdown",
      "id": "f98c0016-b1c5-42ac-a646-52f60d4d6308",
      "metadata": {
        "id": "f98c0016-b1c5-42ac-a646-52f60d4d6308"
      },
      "source": [
        "**Árbol de decisión**\n",
        "- Accuracy: 0.28\n",
        "- Macro avg f1: 0.27\n",
        "- Predicción levemente más repartida entre clases que Random Forest.\n",
        "- A este modelo le cuesta identificar correctamente las clases, y confunde mucho entre clases vecinas. Está apenas por debajo de Random Forest, pero es muy sensible al ruido (típico de árboles sin poda)."
      ]
    },
    {
      "cell_type": "markdown",
      "id": "3c5ed96b-6891-4885-9ad9-57560f40735d",
      "metadata": {
        "id": "3c5ed96b-6891-4885-9ad9-57560f40735d"
      },
      "source": [
        "**k-Nearest Neighbors (kNN)**\n",
        "- Accuracy: 0.25\n",
        "- Macro avg f1: 0.24\n",
        "- Tiene mayor dispersión de errores. Tiende a equivocarse más que los árboles, especialmente en clases 1 y 2. No presenta ventaja clara sobre los otros modelos."
      ]
    },
    {
      "cell_type": "markdown",
      "id": "b1fe0265-7241-4bae-b487-5cdb22660b66",
      "metadata": {
        "id": "b1fe0265-7241-4bae-b487-5cdb22660b66"
      },
      "source": [
        "**Regresión Logística**\n",
        "- Accuracy: 0.32\n",
        "- Macro avg f1: 0.23\n",
        "- Clases 1, 2, 3 tienen valores decentes, pero la clase 0 jamás fue predicha.\n",
        "- La clase 3 absorbe casi todo (recall de 0.73).\n",
        "- Aunque tiene el mejor accuracy, es el más desequilibrado. La clase 0 nunca se predice, lo cual es crítico. Este comportamiento indica sobreajuste hacia la clase mayoritaria o una muy mala separación de fronteras."
      ]
    },
    {
      "cell_type": "raw",
      "id": "34caad76-9a99-4464-a8e7-f17a227df460",
      "metadata": {
        "id": "34caad76-9a99-4464-a8e7-f17a227df460"
      },
      "source": []
    },
    {
      "cell_type": "markdown",
      "id": "36984d1b-4d6e-4721-9625-04d1596ca47c",
      "metadata": {
        "id": "36984d1b-4d6e-4721-9625-04d1596ca47c"
      },
      "source": [
        "Con estos resultados podemos determinar que el uso de K-Fold no mejoró realmente el análisis. Se mantiene el desbalance."
      ]
    },
    {
      "cell_type": "markdown",
      "id": "0da663e5-dbda-4b57-ac0f-fe7ddd83fecc",
      "metadata": {
        "id": "0da663e5-dbda-4b57-ac0f-fe7ddd83fecc"
      },
      "source": [
        "Lo siguiente a probar es la optimización de los hiperparámetros."
      ]
    },
    {
      "cell_type": "markdown",
      "id": "db3f5417-9a34-44de-913b-31655bc114a5",
      "metadata": {
        "id": "db3f5417-9a34-44de-913b-31655bc114a5"
      },
      "source": [
        "## Optimización de los Hiperparámetros"
      ]
    },
    {
      "cell_type": "code",
      "execution_count": null,
      "id": "a31ebbdc-6614-4ddb-b6ca-d71e7c3eca2f",
      "metadata": {
        "id": "a31ebbdc-6614-4ddb-b6ca-d71e7c3eca2f"
      },
      "outputs": [],
      "source": [
        "cv = StratifiedKFold(n_splits=5, shuffle=True, random_state=42)"
      ]
    },
    {
      "cell_type": "markdown",
      "id": "93054674-bea1-462a-92c5-36b699f6b4cb",
      "metadata": {
        "jp-MarkdownHeadingCollapsed": true,
        "id": "93054674-bea1-462a-92c5-36b699f6b4cb"
      },
      "source": [
        "### Random Forest"
      ]
    },
    {
      "cell_type": "code",
      "execution_count": null,
      "id": "e9fc9731-da26-41c4-8941-1b18009abae1",
      "metadata": {
        "id": "e9fc9731-da26-41c4-8941-1b18009abae1"
      },
      "outputs": [],
      "source": [
        "param_grid_rf = {\n",
        "    'n_estimators': [50, 100, 200],\n",
        "    'max_depth': [None, 10, 20],\n",
        "    'min_samples_split': [2, 5, 10],\n",
        "    'min_samples_leaf': [1, 2, 4]\n",
        "}"
      ]
    },
    {
      "cell_type": "code",
      "execution_count": null,
      "id": "0182cccc-d7e6-4e38-badc-806eda514abb",
      "metadata": {
        "id": "0182cccc-d7e6-4e38-badc-806eda514abb",
        "outputId": "621f6247-8364-4f6d-efb7-930093bfdf3e"
      },
      "outputs": [
        {
          "data": {
            "text/html": [
              "<style>#sk-container-id-1 {\n",
              "  /* Definition of color scheme common for light and dark mode */\n",
              "  --sklearn-color-text: black;\n",
              "  --sklearn-color-line: gray;\n",
              "  /* Definition of color scheme for unfitted estimators */\n",
              "  --sklearn-color-unfitted-level-0: #fff5e6;\n",
              "  --sklearn-color-unfitted-level-1: #f6e4d2;\n",
              "  --sklearn-color-unfitted-level-2: #ffe0b3;\n",
              "  --sklearn-color-unfitted-level-3: chocolate;\n",
              "  /* Definition of color scheme for fitted estimators */\n",
              "  --sklearn-color-fitted-level-0: #f0f8ff;\n",
              "  --sklearn-color-fitted-level-1: #d4ebff;\n",
              "  --sklearn-color-fitted-level-2: #b3dbfd;\n",
              "  --sklearn-color-fitted-level-3: cornflowerblue;\n",
              "\n",
              "  /* Specific color for light theme */\n",
              "  --sklearn-color-text-on-default-background: var(--sg-text-color, var(--theme-code-foreground, var(--jp-content-font-color1, black)));\n",
              "  --sklearn-color-background: var(--sg-background-color, var(--theme-background, var(--jp-layout-color0, white)));\n",
              "  --sklearn-color-border-box: var(--sg-text-color, var(--theme-code-foreground, var(--jp-content-font-color1, black)));\n",
              "  --sklearn-color-icon: #696969;\n",
              "\n",
              "  @media (prefers-color-scheme: dark) {\n",
              "    /* Redefinition of color scheme for dark theme */\n",
              "    --sklearn-color-text-on-default-background: var(--sg-text-color, var(--theme-code-foreground, var(--jp-content-font-color1, white)));\n",
              "    --sklearn-color-background: var(--sg-background-color, var(--theme-background, var(--jp-layout-color0, #111)));\n",
              "    --sklearn-color-border-box: var(--sg-text-color, var(--theme-code-foreground, var(--jp-content-font-color1, white)));\n",
              "    --sklearn-color-icon: #878787;\n",
              "  }\n",
              "}\n",
              "\n",
              "#sk-container-id-1 {\n",
              "  color: var(--sklearn-color-text);\n",
              "}\n",
              "\n",
              "#sk-container-id-1 pre {\n",
              "  padding: 0;\n",
              "}\n",
              "\n",
              "#sk-container-id-1 input.sk-hidden--visually {\n",
              "  border: 0;\n",
              "  clip: rect(1px 1px 1px 1px);\n",
              "  clip: rect(1px, 1px, 1px, 1px);\n",
              "  height: 1px;\n",
              "  margin: -1px;\n",
              "  overflow: hidden;\n",
              "  padding: 0;\n",
              "  position: absolute;\n",
              "  width: 1px;\n",
              "}\n",
              "\n",
              "#sk-container-id-1 div.sk-dashed-wrapped {\n",
              "  border: 1px dashed var(--sklearn-color-line);\n",
              "  margin: 0 0.4em 0.5em 0.4em;\n",
              "  box-sizing: border-box;\n",
              "  padding-bottom: 0.4em;\n",
              "  background-color: var(--sklearn-color-background);\n",
              "}\n",
              "\n",
              "#sk-container-id-1 div.sk-container {\n",
              "  /* jupyter's `normalize.less` sets `[hidden] { display: none; }`\n",
              "     but bootstrap.min.css set `[hidden] { display: none !important; }`\n",
              "     so we also need the `!important` here to be able to override the\n",
              "     default hidden behavior on the sphinx rendered scikit-learn.org.\n",
              "     See: https://github.com/scikit-learn/scikit-learn/issues/21755 */\n",
              "  display: inline-block !important;\n",
              "  position: relative;\n",
              "}\n",
              "\n",
              "#sk-container-id-1 div.sk-text-repr-fallback {\n",
              "  display: none;\n",
              "}\n",
              "\n",
              "div.sk-parallel-item,\n",
              "div.sk-serial,\n",
              "div.sk-item {\n",
              "  /* draw centered vertical line to link estimators */\n",
              "  background-image: linear-gradient(var(--sklearn-color-text-on-default-background), var(--sklearn-color-text-on-default-background));\n",
              "  background-size: 2px 100%;\n",
              "  background-repeat: no-repeat;\n",
              "  background-position: center center;\n",
              "}\n",
              "\n",
              "/* Parallel-specific style estimator block */\n",
              "\n",
              "#sk-container-id-1 div.sk-parallel-item::after {\n",
              "  content: \"\";\n",
              "  width: 100%;\n",
              "  border-bottom: 2px solid var(--sklearn-color-text-on-default-background);\n",
              "  flex-grow: 1;\n",
              "}\n",
              "\n",
              "#sk-container-id-1 div.sk-parallel {\n",
              "  display: flex;\n",
              "  align-items: stretch;\n",
              "  justify-content: center;\n",
              "  background-color: var(--sklearn-color-background);\n",
              "  position: relative;\n",
              "}\n",
              "\n",
              "#sk-container-id-1 div.sk-parallel-item {\n",
              "  display: flex;\n",
              "  flex-direction: column;\n",
              "}\n",
              "\n",
              "#sk-container-id-1 div.sk-parallel-item:first-child::after {\n",
              "  align-self: flex-end;\n",
              "  width: 50%;\n",
              "}\n",
              "\n",
              "#sk-container-id-1 div.sk-parallel-item:last-child::after {\n",
              "  align-self: flex-start;\n",
              "  width: 50%;\n",
              "}\n",
              "\n",
              "#sk-container-id-1 div.sk-parallel-item:only-child::after {\n",
              "  width: 0;\n",
              "}\n",
              "\n",
              "/* Serial-specific style estimator block */\n",
              "\n",
              "#sk-container-id-1 div.sk-serial {\n",
              "  display: flex;\n",
              "  flex-direction: column;\n",
              "  align-items: center;\n",
              "  background-color: var(--sklearn-color-background);\n",
              "  padding-right: 1em;\n",
              "  padding-left: 1em;\n",
              "}\n",
              "\n",
              "\n",
              "/* Toggleable style: style used for estimator/Pipeline/ColumnTransformer box that is\n",
              "clickable and can be expanded/collapsed.\n",
              "- Pipeline and ColumnTransformer use this feature and define the default style\n",
              "- Estimators will overwrite some part of the style using the `sk-estimator` class\n",
              "*/\n",
              "\n",
              "/* Pipeline and ColumnTransformer style (default) */\n",
              "\n",
              "#sk-container-id-1 div.sk-toggleable {\n",
              "  /* Default theme specific background. It is overwritten whether we have a\n",
              "  specific estimator or a Pipeline/ColumnTransformer */\n",
              "  background-color: var(--sklearn-color-background);\n",
              "}\n",
              "\n",
              "/* Toggleable label */\n",
              "#sk-container-id-1 label.sk-toggleable__label {\n",
              "  cursor: pointer;\n",
              "  display: block;\n",
              "  width: 100%;\n",
              "  margin-bottom: 0;\n",
              "  padding: 0.5em;\n",
              "  box-sizing: border-box;\n",
              "  text-align: center;\n",
              "}\n",
              "\n",
              "#sk-container-id-1 label.sk-toggleable__label-arrow:before {\n",
              "  /* Arrow on the left of the label */\n",
              "  content: \"▸\";\n",
              "  float: left;\n",
              "  margin-right: 0.25em;\n",
              "  color: var(--sklearn-color-icon);\n",
              "}\n",
              "\n",
              "#sk-container-id-1 label.sk-toggleable__label-arrow:hover:before {\n",
              "  color: var(--sklearn-color-text);\n",
              "}\n",
              "\n",
              "/* Toggleable content - dropdown */\n",
              "\n",
              "#sk-container-id-1 div.sk-toggleable__content {\n",
              "  max-height: 0;\n",
              "  max-width: 0;\n",
              "  overflow: hidden;\n",
              "  text-align: left;\n",
              "  /* unfitted */\n",
              "  background-color: var(--sklearn-color-unfitted-level-0);\n",
              "}\n",
              "\n",
              "#sk-container-id-1 div.sk-toggleable__content.fitted {\n",
              "  /* fitted */\n",
              "  background-color: var(--sklearn-color-fitted-level-0);\n",
              "}\n",
              "\n",
              "#sk-container-id-1 div.sk-toggleable__content pre {\n",
              "  margin: 0.2em;\n",
              "  border-radius: 0.25em;\n",
              "  color: var(--sklearn-color-text);\n",
              "  /* unfitted */\n",
              "  background-color: var(--sklearn-color-unfitted-level-0);\n",
              "}\n",
              "\n",
              "#sk-container-id-1 div.sk-toggleable__content.fitted pre {\n",
              "  /* unfitted */\n",
              "  background-color: var(--sklearn-color-fitted-level-0);\n",
              "}\n",
              "\n",
              "#sk-container-id-1 input.sk-toggleable__control:checked~div.sk-toggleable__content {\n",
              "  /* Expand drop-down */\n",
              "  max-height: 200px;\n",
              "  max-width: 100%;\n",
              "  overflow: auto;\n",
              "}\n",
              "\n",
              "#sk-container-id-1 input.sk-toggleable__control:checked~label.sk-toggleable__label-arrow:before {\n",
              "  content: \"▾\";\n",
              "}\n",
              "\n",
              "/* Pipeline/ColumnTransformer-specific style */\n",
              "\n",
              "#sk-container-id-1 div.sk-label input.sk-toggleable__control:checked~label.sk-toggleable__label {\n",
              "  color: var(--sklearn-color-text);\n",
              "  background-color: var(--sklearn-color-unfitted-level-2);\n",
              "}\n",
              "\n",
              "#sk-container-id-1 div.sk-label.fitted input.sk-toggleable__control:checked~label.sk-toggleable__label {\n",
              "  background-color: var(--sklearn-color-fitted-level-2);\n",
              "}\n",
              "\n",
              "/* Estimator-specific style */\n",
              "\n",
              "/* Colorize estimator box */\n",
              "#sk-container-id-1 div.sk-estimator input.sk-toggleable__control:checked~label.sk-toggleable__label {\n",
              "  /* unfitted */\n",
              "  background-color: var(--sklearn-color-unfitted-level-2);\n",
              "}\n",
              "\n",
              "#sk-container-id-1 div.sk-estimator.fitted input.sk-toggleable__control:checked~label.sk-toggleable__label {\n",
              "  /* fitted */\n",
              "  background-color: var(--sklearn-color-fitted-level-2);\n",
              "}\n",
              "\n",
              "#sk-container-id-1 div.sk-label label.sk-toggleable__label,\n",
              "#sk-container-id-1 div.sk-label label {\n",
              "  /* The background is the default theme color */\n",
              "  color: var(--sklearn-color-text-on-default-background);\n",
              "}\n",
              "\n",
              "/* On hover, darken the color of the background */\n",
              "#sk-container-id-1 div.sk-label:hover label.sk-toggleable__label {\n",
              "  color: var(--sklearn-color-text);\n",
              "  background-color: var(--sklearn-color-unfitted-level-2);\n",
              "}\n",
              "\n",
              "/* Label box, darken color on hover, fitted */\n",
              "#sk-container-id-1 div.sk-label.fitted:hover label.sk-toggleable__label.fitted {\n",
              "  color: var(--sklearn-color-text);\n",
              "  background-color: var(--sklearn-color-fitted-level-2);\n",
              "}\n",
              "\n",
              "/* Estimator label */\n",
              "\n",
              "#sk-container-id-1 div.sk-label label {\n",
              "  font-family: monospace;\n",
              "  font-weight: bold;\n",
              "  display: inline-block;\n",
              "  line-height: 1.2em;\n",
              "}\n",
              "\n",
              "#sk-container-id-1 div.sk-label-container {\n",
              "  text-align: center;\n",
              "}\n",
              "\n",
              "/* Estimator-specific */\n",
              "#sk-container-id-1 div.sk-estimator {\n",
              "  font-family: monospace;\n",
              "  border: 1px dotted var(--sklearn-color-border-box);\n",
              "  border-radius: 0.25em;\n",
              "  box-sizing: border-box;\n",
              "  margin-bottom: 0.5em;\n",
              "  /* unfitted */\n",
              "  background-color: var(--sklearn-color-unfitted-level-0);\n",
              "}\n",
              "\n",
              "#sk-container-id-1 div.sk-estimator.fitted {\n",
              "  /* fitted */\n",
              "  background-color: var(--sklearn-color-fitted-level-0);\n",
              "}\n",
              "\n",
              "/* on hover */\n",
              "#sk-container-id-1 div.sk-estimator:hover {\n",
              "  /* unfitted */\n",
              "  background-color: var(--sklearn-color-unfitted-level-2);\n",
              "}\n",
              "\n",
              "#sk-container-id-1 div.sk-estimator.fitted:hover {\n",
              "  /* fitted */\n",
              "  background-color: var(--sklearn-color-fitted-level-2);\n",
              "}\n",
              "\n",
              "/* Specification for estimator info (e.g. \"i\" and \"?\") */\n",
              "\n",
              "/* Common style for \"i\" and \"?\" */\n",
              "\n",
              ".sk-estimator-doc-link,\n",
              "a:link.sk-estimator-doc-link,\n",
              "a:visited.sk-estimator-doc-link {\n",
              "  float: right;\n",
              "  font-size: smaller;\n",
              "  line-height: 1em;\n",
              "  font-family: monospace;\n",
              "  background-color: var(--sklearn-color-background);\n",
              "  border-radius: 1em;\n",
              "  height: 1em;\n",
              "  width: 1em;\n",
              "  text-decoration: none !important;\n",
              "  margin-left: 1ex;\n",
              "  /* unfitted */\n",
              "  border: var(--sklearn-color-unfitted-level-1) 1pt solid;\n",
              "  color: var(--sklearn-color-unfitted-level-1);\n",
              "}\n",
              "\n",
              ".sk-estimator-doc-link.fitted,\n",
              "a:link.sk-estimator-doc-link.fitted,\n",
              "a:visited.sk-estimator-doc-link.fitted {\n",
              "  /* fitted */\n",
              "  border: var(--sklearn-color-fitted-level-1) 1pt solid;\n",
              "  color: var(--sklearn-color-fitted-level-1);\n",
              "}\n",
              "\n",
              "/* On hover */\n",
              "div.sk-estimator:hover .sk-estimator-doc-link:hover,\n",
              ".sk-estimator-doc-link:hover,\n",
              "div.sk-label-container:hover .sk-estimator-doc-link:hover,\n",
              ".sk-estimator-doc-link:hover {\n",
              "  /* unfitted */\n",
              "  background-color: var(--sklearn-color-unfitted-level-3);\n",
              "  color: var(--sklearn-color-background);\n",
              "  text-decoration: none;\n",
              "}\n",
              "\n",
              "div.sk-estimator.fitted:hover .sk-estimator-doc-link.fitted:hover,\n",
              ".sk-estimator-doc-link.fitted:hover,\n",
              "div.sk-label-container:hover .sk-estimator-doc-link.fitted:hover,\n",
              ".sk-estimator-doc-link.fitted:hover {\n",
              "  /* fitted */\n",
              "  background-color: var(--sklearn-color-fitted-level-3);\n",
              "  color: var(--sklearn-color-background);\n",
              "  text-decoration: none;\n",
              "}\n",
              "\n",
              "/* Span, style for the box shown on hovering the info icon */\n",
              ".sk-estimator-doc-link span {\n",
              "  display: none;\n",
              "  z-index: 9999;\n",
              "  position: relative;\n",
              "  font-weight: normal;\n",
              "  right: .2ex;\n",
              "  padding: .5ex;\n",
              "  margin: .5ex;\n",
              "  width: min-content;\n",
              "  min-width: 20ex;\n",
              "  max-width: 50ex;\n",
              "  color: var(--sklearn-color-text);\n",
              "  box-shadow: 2pt 2pt 4pt #999;\n",
              "  /* unfitted */\n",
              "  background: var(--sklearn-color-unfitted-level-0);\n",
              "  border: .5pt solid var(--sklearn-color-unfitted-level-3);\n",
              "}\n",
              "\n",
              ".sk-estimator-doc-link.fitted span {\n",
              "  /* fitted */\n",
              "  background: var(--sklearn-color-fitted-level-0);\n",
              "  border: var(--sklearn-color-fitted-level-3);\n",
              "}\n",
              "\n",
              ".sk-estimator-doc-link:hover span {\n",
              "  display: block;\n",
              "}\n",
              "\n",
              "/* \"?\"-specific style due to the `<a>` HTML tag */\n",
              "\n",
              "#sk-container-id-1 a.estimator_doc_link {\n",
              "  float: right;\n",
              "  font-size: 1rem;\n",
              "  line-height: 1em;\n",
              "  font-family: monospace;\n",
              "  background-color: var(--sklearn-color-background);\n",
              "  border-radius: 1rem;\n",
              "  height: 1rem;\n",
              "  width: 1rem;\n",
              "  text-decoration: none;\n",
              "  /* unfitted */\n",
              "  color: var(--sklearn-color-unfitted-level-1);\n",
              "  border: var(--sklearn-color-unfitted-level-1) 1pt solid;\n",
              "}\n",
              "\n",
              "#sk-container-id-1 a.estimator_doc_link.fitted {\n",
              "  /* fitted */\n",
              "  border: var(--sklearn-color-fitted-level-1) 1pt solid;\n",
              "  color: var(--sklearn-color-fitted-level-1);\n",
              "}\n",
              "\n",
              "/* On hover */\n",
              "#sk-container-id-1 a.estimator_doc_link:hover {\n",
              "  /* unfitted */\n",
              "  background-color: var(--sklearn-color-unfitted-level-3);\n",
              "  color: var(--sklearn-color-background);\n",
              "  text-decoration: none;\n",
              "}\n",
              "\n",
              "#sk-container-id-1 a.estimator_doc_link.fitted:hover {\n",
              "  /* fitted */\n",
              "  background-color: var(--sklearn-color-fitted-level-3);\n",
              "}\n",
              "</style><div id=\"sk-container-id-1\" class=\"sk-top-container\"><div class=\"sk-text-repr-fallback\"><pre>GridSearchCV(cv=StratifiedKFold(n_splits=5, random_state=42, shuffle=True),\n",
              "             estimator=RandomForestClassifier(random_state=42), n_jobs=-1,\n",
              "             param_grid={&#x27;max_depth&#x27;: [None, 10, 20],\n",
              "                         &#x27;min_samples_leaf&#x27;: [1, 2, 4],\n",
              "                         &#x27;min_samples_split&#x27;: [2, 5, 10],\n",
              "                         &#x27;n_estimators&#x27;: [50, 100, 200]},\n",
              "             scoring=&#x27;f1_weighted&#x27;)</pre><b>In a Jupyter environment, please rerun this cell to show the HTML representation or trust the notebook. <br />On GitHub, the HTML representation is unable to render, please try loading this page with nbviewer.org.</b></div><div class=\"sk-container\" hidden><div class=\"sk-item sk-dashed-wrapped\"><div class=\"sk-label-container\"><div class=\"sk-label fitted sk-toggleable\"><input class=\"sk-toggleable__control sk-hidden--visually\" id=\"sk-estimator-id-1\" type=\"checkbox\" ><label for=\"sk-estimator-id-1\" class=\"sk-toggleable__label fitted sk-toggleable__label-arrow fitted\">&nbsp;&nbsp;GridSearchCV<a class=\"sk-estimator-doc-link fitted\" rel=\"noreferrer\" target=\"_blank\" href=\"https://scikit-learn.org/1.5/modules/generated/sklearn.model_selection.GridSearchCV.html\">?<span>Documentation for GridSearchCV</span></a><span class=\"sk-estimator-doc-link fitted\">i<span>Fitted</span></span></label><div class=\"sk-toggleable__content fitted\"><pre>GridSearchCV(cv=StratifiedKFold(n_splits=5, random_state=42, shuffle=True),\n",
              "             estimator=RandomForestClassifier(random_state=42), n_jobs=-1,\n",
              "             param_grid={&#x27;max_depth&#x27;: [None, 10, 20],\n",
              "                         &#x27;min_samples_leaf&#x27;: [1, 2, 4],\n",
              "                         &#x27;min_samples_split&#x27;: [2, 5, 10],\n",
              "                         &#x27;n_estimators&#x27;: [50, 100, 200]},\n",
              "             scoring=&#x27;f1_weighted&#x27;)</pre></div> </div></div><div class=\"sk-parallel\"><div class=\"sk-parallel-item\"><div class=\"sk-item\"><div class=\"sk-label-container\"><div class=\"sk-label fitted sk-toggleable\"><input class=\"sk-toggleable__control sk-hidden--visually\" id=\"sk-estimator-id-2\" type=\"checkbox\" ><label for=\"sk-estimator-id-2\" class=\"sk-toggleable__label fitted sk-toggleable__label-arrow fitted\">best_estimator_: RandomForestClassifier</label><div class=\"sk-toggleable__content fitted\"><pre>RandomForestClassifier(max_depth=10, n_estimators=50, random_state=42)</pre></div> </div></div><div class=\"sk-serial\"><div class=\"sk-item\"><div class=\"sk-estimator fitted sk-toggleable\"><input class=\"sk-toggleable__control sk-hidden--visually\" id=\"sk-estimator-id-3\" type=\"checkbox\" ><label for=\"sk-estimator-id-3\" class=\"sk-toggleable__label fitted sk-toggleable__label-arrow fitted\">&nbsp;RandomForestClassifier<a class=\"sk-estimator-doc-link fitted\" rel=\"noreferrer\" target=\"_blank\" href=\"https://scikit-learn.org/1.5/modules/generated/sklearn.ensemble.RandomForestClassifier.html\">?<span>Documentation for RandomForestClassifier</span></a></label><div class=\"sk-toggleable__content fitted\"><pre>RandomForestClassifier(max_depth=10, n_estimators=50, random_state=42)</pre></div> </div></div></div></div></div></div></div></div></div>"
            ],
            "text/plain": [
              "GridSearchCV(cv=StratifiedKFold(n_splits=5, random_state=42, shuffle=True),\n",
              "             estimator=RandomForestClassifier(random_state=42), n_jobs=-1,\n",
              "             param_grid={'max_depth': [None, 10, 20],\n",
              "                         'min_samples_leaf': [1, 2, 4],\n",
              "                         'min_samples_split': [2, 5, 10],\n",
              "                         'n_estimators': [50, 100, 200]},\n",
              "             scoring='f1_weighted')"
            ]
          },
          "execution_count": 12,
          "metadata": {},
          "output_type": "execute_result"
        }
      ],
      "source": [
        "grid_rf = GridSearchCV(\n",
        "    estimator=RandomForestClassifier(random_state=42),\n",
        "    param_grid=param_grid_rf,\n",
        "    cv=cv,\n",
        "    scoring='f1_weighted',\n",
        "    n_jobs=-1\n",
        ")\n",
        "grid_rf.fit(X_train, y_train)"
      ]
    },
    {
      "cell_type": "code",
      "execution_count": null,
      "id": "ade1b382-5d5d-4556-823b-cff9347de2ae",
      "metadata": {
        "id": "ade1b382-5d5d-4556-823b-cff9347de2ae",
        "outputId": "cb6dbe8e-3d8f-42af-bab0-4be5291a3528"
      },
      "outputs": [
        {
          "name": "stdout",
          "output_type": "stream",
          "text": [
            "Mejores hiperparámetros: {'max_depth': 10, 'min_samples_leaf': 1, 'min_samples_split': 2, 'n_estimators': 50}\n",
            "F1-weighted CV: 0.31319098644024473\n",
            "Accuracy test: 0.28\n",
            "Matriz de confusión:\n",
            "[[ 2  6  6  4]\n",
            " [ 2  6  7 11]\n",
            " [ 1  6  7 12]\n",
            " [ 2  8  7 13]]\n",
            "Reporte de clasificación:\n",
            "              precision    recall  f1-score   support\n",
            "\n",
            "           0       0.29      0.11      0.16        18\n",
            "           1       0.23      0.23      0.23        26\n",
            "           2       0.26      0.27      0.26        26\n",
            "           3       0.33      0.43      0.37        30\n",
            "\n",
            "    accuracy                           0.28       100\n",
            "   macro avg       0.28      0.26      0.26       100\n",
            "weighted avg       0.28      0.28      0.27       100\n",
            "\n"
          ]
        }
      ],
      "source": [
        "y_pred_rf = grid_rf.best_estimator_.predict(X_test)\n",
        "\n",
        "print(\"Mejores hiperparámetros:\", grid_rf.best_params_)\n",
        "print(\"F1-weighted CV:\", grid_rf.best_score_)\n",
        "print(\"Accuracy test:\", grid_rf.best_estimator_.score(X_test, y_test))\n",
        "print(\"Matriz de confusión:\")\n",
        "print(confusion_matrix(y_test, y_pred_rf))\n",
        "print(\"Reporte de clasificación:\")\n",
        "print(classification_report(y_test, y_pred_rf, zero_division=0))"
      ]
    },
    {
      "cell_type": "markdown",
      "id": "2a520f87-1a12-41be-8edf-d01a383af126",
      "metadata": {
        "jp-MarkdownHeadingCollapsed": true,
        "id": "2a520f87-1a12-41be-8edf-d01a383af126"
      },
      "source": [
        "### Árbol de decisión"
      ]
    },
    {
      "cell_type": "code",
      "execution_count": null,
      "id": "0caf2ef8-ba5c-4da1-8a5e-e37eec27e71b",
      "metadata": {
        "id": "0caf2ef8-ba5c-4da1-8a5e-e37eec27e71b"
      },
      "outputs": [],
      "source": [
        "param_grid_dt = {\n",
        "    'criterion': ['gini', 'entropy'],\n",
        "    'max_depth': [None, 10, 20, 30],\n",
        "    'min_samples_split': [2, 5, 10]\n",
        "}"
      ]
    },
    {
      "cell_type": "code",
      "execution_count": null,
      "id": "2c9d7460-5190-49ac-8d7a-492ffc71edf2",
      "metadata": {
        "id": "2c9d7460-5190-49ac-8d7a-492ffc71edf2",
        "outputId": "d6fac326-a57a-4c09-bd80-e4656073b4ab"
      },
      "outputs": [
        {
          "data": {
            "text/html": [
              "<style>#sk-container-id-2 {\n",
              "  /* Definition of color scheme common for light and dark mode */\n",
              "  --sklearn-color-text: black;\n",
              "  --sklearn-color-line: gray;\n",
              "  /* Definition of color scheme for unfitted estimators */\n",
              "  --sklearn-color-unfitted-level-0: #fff5e6;\n",
              "  --sklearn-color-unfitted-level-1: #f6e4d2;\n",
              "  --sklearn-color-unfitted-level-2: #ffe0b3;\n",
              "  --sklearn-color-unfitted-level-3: chocolate;\n",
              "  /* Definition of color scheme for fitted estimators */\n",
              "  --sklearn-color-fitted-level-0: #f0f8ff;\n",
              "  --sklearn-color-fitted-level-1: #d4ebff;\n",
              "  --sklearn-color-fitted-level-2: #b3dbfd;\n",
              "  --sklearn-color-fitted-level-3: cornflowerblue;\n",
              "\n",
              "  /* Specific color for light theme */\n",
              "  --sklearn-color-text-on-default-background: var(--sg-text-color, var(--theme-code-foreground, var(--jp-content-font-color1, black)));\n",
              "  --sklearn-color-background: var(--sg-background-color, var(--theme-background, var(--jp-layout-color0, white)));\n",
              "  --sklearn-color-border-box: var(--sg-text-color, var(--theme-code-foreground, var(--jp-content-font-color1, black)));\n",
              "  --sklearn-color-icon: #696969;\n",
              "\n",
              "  @media (prefers-color-scheme: dark) {\n",
              "    /* Redefinition of color scheme for dark theme */\n",
              "    --sklearn-color-text-on-default-background: var(--sg-text-color, var(--theme-code-foreground, var(--jp-content-font-color1, white)));\n",
              "    --sklearn-color-background: var(--sg-background-color, var(--theme-background, var(--jp-layout-color0, #111)));\n",
              "    --sklearn-color-border-box: var(--sg-text-color, var(--theme-code-foreground, var(--jp-content-font-color1, white)));\n",
              "    --sklearn-color-icon: #878787;\n",
              "  }\n",
              "}\n",
              "\n",
              "#sk-container-id-2 {\n",
              "  color: var(--sklearn-color-text);\n",
              "}\n",
              "\n",
              "#sk-container-id-2 pre {\n",
              "  padding: 0;\n",
              "}\n",
              "\n",
              "#sk-container-id-2 input.sk-hidden--visually {\n",
              "  border: 0;\n",
              "  clip: rect(1px 1px 1px 1px);\n",
              "  clip: rect(1px, 1px, 1px, 1px);\n",
              "  height: 1px;\n",
              "  margin: -1px;\n",
              "  overflow: hidden;\n",
              "  padding: 0;\n",
              "  position: absolute;\n",
              "  width: 1px;\n",
              "}\n",
              "\n",
              "#sk-container-id-2 div.sk-dashed-wrapped {\n",
              "  border: 1px dashed var(--sklearn-color-line);\n",
              "  margin: 0 0.4em 0.5em 0.4em;\n",
              "  box-sizing: border-box;\n",
              "  padding-bottom: 0.4em;\n",
              "  background-color: var(--sklearn-color-background);\n",
              "}\n",
              "\n",
              "#sk-container-id-2 div.sk-container {\n",
              "  /* jupyter's `normalize.less` sets `[hidden] { display: none; }`\n",
              "     but bootstrap.min.css set `[hidden] { display: none !important; }`\n",
              "     so we also need the `!important` here to be able to override the\n",
              "     default hidden behavior on the sphinx rendered scikit-learn.org.\n",
              "     See: https://github.com/scikit-learn/scikit-learn/issues/21755 */\n",
              "  display: inline-block !important;\n",
              "  position: relative;\n",
              "}\n",
              "\n",
              "#sk-container-id-2 div.sk-text-repr-fallback {\n",
              "  display: none;\n",
              "}\n",
              "\n",
              "div.sk-parallel-item,\n",
              "div.sk-serial,\n",
              "div.sk-item {\n",
              "  /* draw centered vertical line to link estimators */\n",
              "  background-image: linear-gradient(var(--sklearn-color-text-on-default-background), var(--sklearn-color-text-on-default-background));\n",
              "  background-size: 2px 100%;\n",
              "  background-repeat: no-repeat;\n",
              "  background-position: center center;\n",
              "}\n",
              "\n",
              "/* Parallel-specific style estimator block */\n",
              "\n",
              "#sk-container-id-2 div.sk-parallel-item::after {\n",
              "  content: \"\";\n",
              "  width: 100%;\n",
              "  border-bottom: 2px solid var(--sklearn-color-text-on-default-background);\n",
              "  flex-grow: 1;\n",
              "}\n",
              "\n",
              "#sk-container-id-2 div.sk-parallel {\n",
              "  display: flex;\n",
              "  align-items: stretch;\n",
              "  justify-content: center;\n",
              "  background-color: var(--sklearn-color-background);\n",
              "  position: relative;\n",
              "}\n",
              "\n",
              "#sk-container-id-2 div.sk-parallel-item {\n",
              "  display: flex;\n",
              "  flex-direction: column;\n",
              "}\n",
              "\n",
              "#sk-container-id-2 div.sk-parallel-item:first-child::after {\n",
              "  align-self: flex-end;\n",
              "  width: 50%;\n",
              "}\n",
              "\n",
              "#sk-container-id-2 div.sk-parallel-item:last-child::after {\n",
              "  align-self: flex-start;\n",
              "  width: 50%;\n",
              "}\n",
              "\n",
              "#sk-container-id-2 div.sk-parallel-item:only-child::after {\n",
              "  width: 0;\n",
              "}\n",
              "\n",
              "/* Serial-specific style estimator block */\n",
              "\n",
              "#sk-container-id-2 div.sk-serial {\n",
              "  display: flex;\n",
              "  flex-direction: column;\n",
              "  align-items: center;\n",
              "  background-color: var(--sklearn-color-background);\n",
              "  padding-right: 1em;\n",
              "  padding-left: 1em;\n",
              "}\n",
              "\n",
              "\n",
              "/* Toggleable style: style used for estimator/Pipeline/ColumnTransformer box that is\n",
              "clickable and can be expanded/collapsed.\n",
              "- Pipeline and ColumnTransformer use this feature and define the default style\n",
              "- Estimators will overwrite some part of the style using the `sk-estimator` class\n",
              "*/\n",
              "\n",
              "/* Pipeline and ColumnTransformer style (default) */\n",
              "\n",
              "#sk-container-id-2 div.sk-toggleable {\n",
              "  /* Default theme specific background. It is overwritten whether we have a\n",
              "  specific estimator or a Pipeline/ColumnTransformer */\n",
              "  background-color: var(--sklearn-color-background);\n",
              "}\n",
              "\n",
              "/* Toggleable label */\n",
              "#sk-container-id-2 label.sk-toggleable__label {\n",
              "  cursor: pointer;\n",
              "  display: block;\n",
              "  width: 100%;\n",
              "  margin-bottom: 0;\n",
              "  padding: 0.5em;\n",
              "  box-sizing: border-box;\n",
              "  text-align: center;\n",
              "}\n",
              "\n",
              "#sk-container-id-2 label.sk-toggleable__label-arrow:before {\n",
              "  /* Arrow on the left of the label */\n",
              "  content: \"▸\";\n",
              "  float: left;\n",
              "  margin-right: 0.25em;\n",
              "  color: var(--sklearn-color-icon);\n",
              "}\n",
              "\n",
              "#sk-container-id-2 label.sk-toggleable__label-arrow:hover:before {\n",
              "  color: var(--sklearn-color-text);\n",
              "}\n",
              "\n",
              "/* Toggleable content - dropdown */\n",
              "\n",
              "#sk-container-id-2 div.sk-toggleable__content {\n",
              "  max-height: 0;\n",
              "  max-width: 0;\n",
              "  overflow: hidden;\n",
              "  text-align: left;\n",
              "  /* unfitted */\n",
              "  background-color: var(--sklearn-color-unfitted-level-0);\n",
              "}\n",
              "\n",
              "#sk-container-id-2 div.sk-toggleable__content.fitted {\n",
              "  /* fitted */\n",
              "  background-color: var(--sklearn-color-fitted-level-0);\n",
              "}\n",
              "\n",
              "#sk-container-id-2 div.sk-toggleable__content pre {\n",
              "  margin: 0.2em;\n",
              "  border-radius: 0.25em;\n",
              "  color: var(--sklearn-color-text);\n",
              "  /* unfitted */\n",
              "  background-color: var(--sklearn-color-unfitted-level-0);\n",
              "}\n",
              "\n",
              "#sk-container-id-2 div.sk-toggleable__content.fitted pre {\n",
              "  /* unfitted */\n",
              "  background-color: var(--sklearn-color-fitted-level-0);\n",
              "}\n",
              "\n",
              "#sk-container-id-2 input.sk-toggleable__control:checked~div.sk-toggleable__content {\n",
              "  /* Expand drop-down */\n",
              "  max-height: 200px;\n",
              "  max-width: 100%;\n",
              "  overflow: auto;\n",
              "}\n",
              "\n",
              "#sk-container-id-2 input.sk-toggleable__control:checked~label.sk-toggleable__label-arrow:before {\n",
              "  content: \"▾\";\n",
              "}\n",
              "\n",
              "/* Pipeline/ColumnTransformer-specific style */\n",
              "\n",
              "#sk-container-id-2 div.sk-label input.sk-toggleable__control:checked~label.sk-toggleable__label {\n",
              "  color: var(--sklearn-color-text);\n",
              "  background-color: var(--sklearn-color-unfitted-level-2);\n",
              "}\n",
              "\n",
              "#sk-container-id-2 div.sk-label.fitted input.sk-toggleable__control:checked~label.sk-toggleable__label {\n",
              "  background-color: var(--sklearn-color-fitted-level-2);\n",
              "}\n",
              "\n",
              "/* Estimator-specific style */\n",
              "\n",
              "/* Colorize estimator box */\n",
              "#sk-container-id-2 div.sk-estimator input.sk-toggleable__control:checked~label.sk-toggleable__label {\n",
              "  /* unfitted */\n",
              "  background-color: var(--sklearn-color-unfitted-level-2);\n",
              "}\n",
              "\n",
              "#sk-container-id-2 div.sk-estimator.fitted input.sk-toggleable__control:checked~label.sk-toggleable__label {\n",
              "  /* fitted */\n",
              "  background-color: var(--sklearn-color-fitted-level-2);\n",
              "}\n",
              "\n",
              "#sk-container-id-2 div.sk-label label.sk-toggleable__label,\n",
              "#sk-container-id-2 div.sk-label label {\n",
              "  /* The background is the default theme color */\n",
              "  color: var(--sklearn-color-text-on-default-background);\n",
              "}\n",
              "\n",
              "/* On hover, darken the color of the background */\n",
              "#sk-container-id-2 div.sk-label:hover label.sk-toggleable__label {\n",
              "  color: var(--sklearn-color-text);\n",
              "  background-color: var(--sklearn-color-unfitted-level-2);\n",
              "}\n",
              "\n",
              "/* Label box, darken color on hover, fitted */\n",
              "#sk-container-id-2 div.sk-label.fitted:hover label.sk-toggleable__label.fitted {\n",
              "  color: var(--sklearn-color-text);\n",
              "  background-color: var(--sklearn-color-fitted-level-2);\n",
              "}\n",
              "\n",
              "/* Estimator label */\n",
              "\n",
              "#sk-container-id-2 div.sk-label label {\n",
              "  font-family: monospace;\n",
              "  font-weight: bold;\n",
              "  display: inline-block;\n",
              "  line-height: 1.2em;\n",
              "}\n",
              "\n",
              "#sk-container-id-2 div.sk-label-container {\n",
              "  text-align: center;\n",
              "}\n",
              "\n",
              "/* Estimator-specific */\n",
              "#sk-container-id-2 div.sk-estimator {\n",
              "  font-family: monospace;\n",
              "  border: 1px dotted var(--sklearn-color-border-box);\n",
              "  border-radius: 0.25em;\n",
              "  box-sizing: border-box;\n",
              "  margin-bottom: 0.5em;\n",
              "  /* unfitted */\n",
              "  background-color: var(--sklearn-color-unfitted-level-0);\n",
              "}\n",
              "\n",
              "#sk-container-id-2 div.sk-estimator.fitted {\n",
              "  /* fitted */\n",
              "  background-color: var(--sklearn-color-fitted-level-0);\n",
              "}\n",
              "\n",
              "/* on hover */\n",
              "#sk-container-id-2 div.sk-estimator:hover {\n",
              "  /* unfitted */\n",
              "  background-color: var(--sklearn-color-unfitted-level-2);\n",
              "}\n",
              "\n",
              "#sk-container-id-2 div.sk-estimator.fitted:hover {\n",
              "  /* fitted */\n",
              "  background-color: var(--sklearn-color-fitted-level-2);\n",
              "}\n",
              "\n",
              "/* Specification for estimator info (e.g. \"i\" and \"?\") */\n",
              "\n",
              "/* Common style for \"i\" and \"?\" */\n",
              "\n",
              ".sk-estimator-doc-link,\n",
              "a:link.sk-estimator-doc-link,\n",
              "a:visited.sk-estimator-doc-link {\n",
              "  float: right;\n",
              "  font-size: smaller;\n",
              "  line-height: 1em;\n",
              "  font-family: monospace;\n",
              "  background-color: var(--sklearn-color-background);\n",
              "  border-radius: 1em;\n",
              "  height: 1em;\n",
              "  width: 1em;\n",
              "  text-decoration: none !important;\n",
              "  margin-left: 1ex;\n",
              "  /* unfitted */\n",
              "  border: var(--sklearn-color-unfitted-level-1) 1pt solid;\n",
              "  color: var(--sklearn-color-unfitted-level-1);\n",
              "}\n",
              "\n",
              ".sk-estimator-doc-link.fitted,\n",
              "a:link.sk-estimator-doc-link.fitted,\n",
              "a:visited.sk-estimator-doc-link.fitted {\n",
              "  /* fitted */\n",
              "  border: var(--sklearn-color-fitted-level-1) 1pt solid;\n",
              "  color: var(--sklearn-color-fitted-level-1);\n",
              "}\n",
              "\n",
              "/* On hover */\n",
              "div.sk-estimator:hover .sk-estimator-doc-link:hover,\n",
              ".sk-estimator-doc-link:hover,\n",
              "div.sk-label-container:hover .sk-estimator-doc-link:hover,\n",
              ".sk-estimator-doc-link:hover {\n",
              "  /* unfitted */\n",
              "  background-color: var(--sklearn-color-unfitted-level-3);\n",
              "  color: var(--sklearn-color-background);\n",
              "  text-decoration: none;\n",
              "}\n",
              "\n",
              "div.sk-estimator.fitted:hover .sk-estimator-doc-link.fitted:hover,\n",
              ".sk-estimator-doc-link.fitted:hover,\n",
              "div.sk-label-container:hover .sk-estimator-doc-link.fitted:hover,\n",
              ".sk-estimator-doc-link.fitted:hover {\n",
              "  /* fitted */\n",
              "  background-color: var(--sklearn-color-fitted-level-3);\n",
              "  color: var(--sklearn-color-background);\n",
              "  text-decoration: none;\n",
              "}\n",
              "\n",
              "/* Span, style for the box shown on hovering the info icon */\n",
              ".sk-estimator-doc-link span {\n",
              "  display: none;\n",
              "  z-index: 9999;\n",
              "  position: relative;\n",
              "  font-weight: normal;\n",
              "  right: .2ex;\n",
              "  padding: .5ex;\n",
              "  margin: .5ex;\n",
              "  width: min-content;\n",
              "  min-width: 20ex;\n",
              "  max-width: 50ex;\n",
              "  color: var(--sklearn-color-text);\n",
              "  box-shadow: 2pt 2pt 4pt #999;\n",
              "  /* unfitted */\n",
              "  background: var(--sklearn-color-unfitted-level-0);\n",
              "  border: .5pt solid var(--sklearn-color-unfitted-level-3);\n",
              "}\n",
              "\n",
              ".sk-estimator-doc-link.fitted span {\n",
              "  /* fitted */\n",
              "  background: var(--sklearn-color-fitted-level-0);\n",
              "  border: var(--sklearn-color-fitted-level-3);\n",
              "}\n",
              "\n",
              ".sk-estimator-doc-link:hover span {\n",
              "  display: block;\n",
              "}\n",
              "\n",
              "/* \"?\"-specific style due to the `<a>` HTML tag */\n",
              "\n",
              "#sk-container-id-2 a.estimator_doc_link {\n",
              "  float: right;\n",
              "  font-size: 1rem;\n",
              "  line-height: 1em;\n",
              "  font-family: monospace;\n",
              "  background-color: var(--sklearn-color-background);\n",
              "  border-radius: 1rem;\n",
              "  height: 1rem;\n",
              "  width: 1rem;\n",
              "  text-decoration: none;\n",
              "  /* unfitted */\n",
              "  color: var(--sklearn-color-unfitted-level-1);\n",
              "  border: var(--sklearn-color-unfitted-level-1) 1pt solid;\n",
              "}\n",
              "\n",
              "#sk-container-id-2 a.estimator_doc_link.fitted {\n",
              "  /* fitted */\n",
              "  border: var(--sklearn-color-fitted-level-1) 1pt solid;\n",
              "  color: var(--sklearn-color-fitted-level-1);\n",
              "}\n",
              "\n",
              "/* On hover */\n",
              "#sk-container-id-2 a.estimator_doc_link:hover {\n",
              "  /* unfitted */\n",
              "  background-color: var(--sklearn-color-unfitted-level-3);\n",
              "  color: var(--sklearn-color-background);\n",
              "  text-decoration: none;\n",
              "}\n",
              "\n",
              "#sk-container-id-2 a.estimator_doc_link.fitted:hover {\n",
              "  /* fitted */\n",
              "  background-color: var(--sklearn-color-fitted-level-3);\n",
              "}\n",
              "</style><div id=\"sk-container-id-2\" class=\"sk-top-container\"><div class=\"sk-text-repr-fallback\"><pre>GridSearchCV(cv=StratifiedKFold(n_splits=5, random_state=42, shuffle=True),\n",
              "             estimator=DecisionTreeClassifier(random_state=42), n_jobs=-1,\n",
              "             param_grid={&#x27;criterion&#x27;: [&#x27;gini&#x27;, &#x27;entropy&#x27;],\n",
              "                         &#x27;max_depth&#x27;: [None, 10, 20, 30],\n",
              "                         &#x27;min_samples_split&#x27;: [2, 5, 10]},\n",
              "             scoring=&#x27;f1_weighted&#x27;)</pre><b>In a Jupyter environment, please rerun this cell to show the HTML representation or trust the notebook. <br />On GitHub, the HTML representation is unable to render, please try loading this page with nbviewer.org.</b></div><div class=\"sk-container\" hidden><div class=\"sk-item sk-dashed-wrapped\"><div class=\"sk-label-container\"><div class=\"sk-label fitted sk-toggleable\"><input class=\"sk-toggleable__control sk-hidden--visually\" id=\"sk-estimator-id-4\" type=\"checkbox\" ><label for=\"sk-estimator-id-4\" class=\"sk-toggleable__label fitted sk-toggleable__label-arrow fitted\">&nbsp;&nbsp;GridSearchCV<a class=\"sk-estimator-doc-link fitted\" rel=\"noreferrer\" target=\"_blank\" href=\"https://scikit-learn.org/1.5/modules/generated/sklearn.model_selection.GridSearchCV.html\">?<span>Documentation for GridSearchCV</span></a><span class=\"sk-estimator-doc-link fitted\">i<span>Fitted</span></span></label><div class=\"sk-toggleable__content fitted\"><pre>GridSearchCV(cv=StratifiedKFold(n_splits=5, random_state=42, shuffle=True),\n",
              "             estimator=DecisionTreeClassifier(random_state=42), n_jobs=-1,\n",
              "             param_grid={&#x27;criterion&#x27;: [&#x27;gini&#x27;, &#x27;entropy&#x27;],\n",
              "                         &#x27;max_depth&#x27;: [None, 10, 20, 30],\n",
              "                         &#x27;min_samples_split&#x27;: [2, 5, 10]},\n",
              "             scoring=&#x27;f1_weighted&#x27;)</pre></div> </div></div><div class=\"sk-parallel\"><div class=\"sk-parallel-item\"><div class=\"sk-item\"><div class=\"sk-label-container\"><div class=\"sk-label fitted sk-toggleable\"><input class=\"sk-toggleable__control sk-hidden--visually\" id=\"sk-estimator-id-5\" type=\"checkbox\" ><label for=\"sk-estimator-id-5\" class=\"sk-toggleable__label fitted sk-toggleable__label-arrow fitted\">best_estimator_: DecisionTreeClassifier</label><div class=\"sk-toggleable__content fitted\"><pre>DecisionTreeClassifier(criterion=&#x27;entropy&#x27;, max_depth=20, min_samples_split=5,\n",
              "                       random_state=42)</pre></div> </div></div><div class=\"sk-serial\"><div class=\"sk-item\"><div class=\"sk-estimator fitted sk-toggleable\"><input class=\"sk-toggleable__control sk-hidden--visually\" id=\"sk-estimator-id-6\" type=\"checkbox\" ><label for=\"sk-estimator-id-6\" class=\"sk-toggleable__label fitted sk-toggleable__label-arrow fitted\">&nbsp;DecisionTreeClassifier<a class=\"sk-estimator-doc-link fitted\" rel=\"noreferrer\" target=\"_blank\" href=\"https://scikit-learn.org/1.5/modules/generated/sklearn.tree.DecisionTreeClassifier.html\">?<span>Documentation for DecisionTreeClassifier</span></a></label><div class=\"sk-toggleable__content fitted\"><pre>DecisionTreeClassifier(criterion=&#x27;entropy&#x27;, max_depth=20, min_samples_split=5,\n",
              "                       random_state=42)</pre></div> </div></div></div></div></div></div></div></div></div>"
            ],
            "text/plain": [
              "GridSearchCV(cv=StratifiedKFold(n_splits=5, random_state=42, shuffle=True),\n",
              "             estimator=DecisionTreeClassifier(random_state=42), n_jobs=-1,\n",
              "             param_grid={'criterion': ['gini', 'entropy'],\n",
              "                         'max_depth': [None, 10, 20, 30],\n",
              "                         'min_samples_split': [2, 5, 10]},\n",
              "             scoring='f1_weighted')"
            ]
          },
          "execution_count": 15,
          "metadata": {},
          "output_type": "execute_result"
        }
      ],
      "source": [
        "grid_dt = GridSearchCV(\n",
        "    estimator=DecisionTreeClassifier(random_state=42),\n",
        "    param_grid=param_grid_dt,\n",
        "    cv=cv,\n",
        "    scoring='f1_weighted',\n",
        "    n_jobs=-1\n",
        ")\n",
        "grid_dt.fit(X_train, y_train)"
      ]
    },
    {
      "cell_type": "code",
      "execution_count": null,
      "id": "92027018-f1da-47bf-932f-a1e5fb4e31fd",
      "metadata": {
        "id": "92027018-f1da-47bf-932f-a1e5fb4e31fd",
        "outputId": "2e2df8e5-5729-4769-ed02-24e392ea6430"
      },
      "outputs": [
        {
          "name": "stdout",
          "output_type": "stream",
          "text": [
            "Mejores hiperparámetros: {'criterion': 'entropy', 'max_depth': 20, 'min_samples_split': 5}\n",
            "F1-weighted CV: 0.2946810163132341\n",
            "Accuracy test: 0.31\n",
            "Matriz de confusión:\n",
            "[[ 7  3  3  5]\n",
            " [ 6 10  3  7]\n",
            " [ 5  6  7  8]\n",
            " [ 8  8  7  7]]\n",
            "Reporte de clasificación:\n",
            "              precision    recall  f1-score   support\n",
            "\n",
            "           0       0.27      0.39      0.32        18\n",
            "           1       0.37      0.38      0.38        26\n",
            "           2       0.35      0.27      0.30        26\n",
            "           3       0.26      0.23      0.25        30\n",
            "\n",
            "    accuracy                           0.31       100\n",
            "   macro avg       0.31      0.32      0.31       100\n",
            "weighted avg       0.31      0.31      0.31       100\n",
            "\n"
          ]
        }
      ],
      "source": [
        "y_pred_dt = grid_dt.best_estimator_.predict(X_test)\n",
        "\n",
        "print(\"Mejores hiperparámetros:\", grid_dt.best_params_)\n",
        "print(\"F1-weighted CV:\", grid_dt.best_score_)\n",
        "print(\"Accuracy test:\", grid_dt.best_estimator_.score(X_test, y_test))\n",
        "print(\"Matriz de confusión:\")\n",
        "print(confusion_matrix(y_test, y_pred_dt))\n",
        "print(\"Reporte de clasificación:\")\n",
        "print(classification_report(y_test, y_pred_dt, zero_division=0))"
      ]
    },
    {
      "cell_type": "code",
      "execution_count": null,
      "id": "c2ced9c4-66e8-4c96-807b-58a67925d94a",
      "metadata": {
        "id": "c2ced9c4-66e8-4c96-807b-58a67925d94a"
      },
      "outputs": [],
      "source": []
    },
    {
      "cell_type": "markdown",
      "id": "29ff47ce-8d06-49ce-a586-d91192e1b4e1",
      "metadata": {
        "jp-MarkdownHeadingCollapsed": true,
        "id": "29ff47ce-8d06-49ce-a586-d91192e1b4e1"
      },
      "source": [
        "### k-Nearest Neighbors (kNN)"
      ]
    },
    {
      "cell_type": "code",
      "execution_count": null,
      "id": "b45d4009-f1ff-4118-a6be-0388d19d88e7",
      "metadata": {
        "id": "b45d4009-f1ff-4118-a6be-0388d19d88e7"
      },
      "outputs": [],
      "source": [
        "param_grid_knn = {\n",
        "    'n_neighbors': [3, 5, 7, 9],\n",
        "    'weights': ['uniform', 'distance'],\n",
        "    'p': [1, 2]  # 1: Manhattan, 2: Euclidean\n",
        "}"
      ]
    },
    {
      "cell_type": "code",
      "execution_count": null,
      "id": "0bad953f-d3df-45ee-be82-51dc811a711c",
      "metadata": {
        "id": "0bad953f-d3df-45ee-be82-51dc811a711c",
        "outputId": "0c835058-0347-4ad2-810b-36d235bbb161"
      },
      "outputs": [
        {
          "data": {
            "text/html": [
              "<style>#sk-container-id-3 {\n",
              "  /* Definition of color scheme common for light and dark mode */\n",
              "  --sklearn-color-text: black;\n",
              "  --sklearn-color-line: gray;\n",
              "  /* Definition of color scheme for unfitted estimators */\n",
              "  --sklearn-color-unfitted-level-0: #fff5e6;\n",
              "  --sklearn-color-unfitted-level-1: #f6e4d2;\n",
              "  --sklearn-color-unfitted-level-2: #ffe0b3;\n",
              "  --sklearn-color-unfitted-level-3: chocolate;\n",
              "  /* Definition of color scheme for fitted estimators */\n",
              "  --sklearn-color-fitted-level-0: #f0f8ff;\n",
              "  --sklearn-color-fitted-level-1: #d4ebff;\n",
              "  --sklearn-color-fitted-level-2: #b3dbfd;\n",
              "  --sklearn-color-fitted-level-3: cornflowerblue;\n",
              "\n",
              "  /* Specific color for light theme */\n",
              "  --sklearn-color-text-on-default-background: var(--sg-text-color, var(--theme-code-foreground, var(--jp-content-font-color1, black)));\n",
              "  --sklearn-color-background: var(--sg-background-color, var(--theme-background, var(--jp-layout-color0, white)));\n",
              "  --sklearn-color-border-box: var(--sg-text-color, var(--theme-code-foreground, var(--jp-content-font-color1, black)));\n",
              "  --sklearn-color-icon: #696969;\n",
              "\n",
              "  @media (prefers-color-scheme: dark) {\n",
              "    /* Redefinition of color scheme for dark theme */\n",
              "    --sklearn-color-text-on-default-background: var(--sg-text-color, var(--theme-code-foreground, var(--jp-content-font-color1, white)));\n",
              "    --sklearn-color-background: var(--sg-background-color, var(--theme-background, var(--jp-layout-color0, #111)));\n",
              "    --sklearn-color-border-box: var(--sg-text-color, var(--theme-code-foreground, var(--jp-content-font-color1, white)));\n",
              "    --sklearn-color-icon: #878787;\n",
              "  }\n",
              "}\n",
              "\n",
              "#sk-container-id-3 {\n",
              "  color: var(--sklearn-color-text);\n",
              "}\n",
              "\n",
              "#sk-container-id-3 pre {\n",
              "  padding: 0;\n",
              "}\n",
              "\n",
              "#sk-container-id-3 input.sk-hidden--visually {\n",
              "  border: 0;\n",
              "  clip: rect(1px 1px 1px 1px);\n",
              "  clip: rect(1px, 1px, 1px, 1px);\n",
              "  height: 1px;\n",
              "  margin: -1px;\n",
              "  overflow: hidden;\n",
              "  padding: 0;\n",
              "  position: absolute;\n",
              "  width: 1px;\n",
              "}\n",
              "\n",
              "#sk-container-id-3 div.sk-dashed-wrapped {\n",
              "  border: 1px dashed var(--sklearn-color-line);\n",
              "  margin: 0 0.4em 0.5em 0.4em;\n",
              "  box-sizing: border-box;\n",
              "  padding-bottom: 0.4em;\n",
              "  background-color: var(--sklearn-color-background);\n",
              "}\n",
              "\n",
              "#sk-container-id-3 div.sk-container {\n",
              "  /* jupyter's `normalize.less` sets `[hidden] { display: none; }`\n",
              "     but bootstrap.min.css set `[hidden] { display: none !important; }`\n",
              "     so we also need the `!important` here to be able to override the\n",
              "     default hidden behavior on the sphinx rendered scikit-learn.org.\n",
              "     See: https://github.com/scikit-learn/scikit-learn/issues/21755 */\n",
              "  display: inline-block !important;\n",
              "  position: relative;\n",
              "}\n",
              "\n",
              "#sk-container-id-3 div.sk-text-repr-fallback {\n",
              "  display: none;\n",
              "}\n",
              "\n",
              "div.sk-parallel-item,\n",
              "div.sk-serial,\n",
              "div.sk-item {\n",
              "  /* draw centered vertical line to link estimators */\n",
              "  background-image: linear-gradient(var(--sklearn-color-text-on-default-background), var(--sklearn-color-text-on-default-background));\n",
              "  background-size: 2px 100%;\n",
              "  background-repeat: no-repeat;\n",
              "  background-position: center center;\n",
              "}\n",
              "\n",
              "/* Parallel-specific style estimator block */\n",
              "\n",
              "#sk-container-id-3 div.sk-parallel-item::after {\n",
              "  content: \"\";\n",
              "  width: 100%;\n",
              "  border-bottom: 2px solid var(--sklearn-color-text-on-default-background);\n",
              "  flex-grow: 1;\n",
              "}\n",
              "\n",
              "#sk-container-id-3 div.sk-parallel {\n",
              "  display: flex;\n",
              "  align-items: stretch;\n",
              "  justify-content: center;\n",
              "  background-color: var(--sklearn-color-background);\n",
              "  position: relative;\n",
              "}\n",
              "\n",
              "#sk-container-id-3 div.sk-parallel-item {\n",
              "  display: flex;\n",
              "  flex-direction: column;\n",
              "}\n",
              "\n",
              "#sk-container-id-3 div.sk-parallel-item:first-child::after {\n",
              "  align-self: flex-end;\n",
              "  width: 50%;\n",
              "}\n",
              "\n",
              "#sk-container-id-3 div.sk-parallel-item:last-child::after {\n",
              "  align-self: flex-start;\n",
              "  width: 50%;\n",
              "}\n",
              "\n",
              "#sk-container-id-3 div.sk-parallel-item:only-child::after {\n",
              "  width: 0;\n",
              "}\n",
              "\n",
              "/* Serial-specific style estimator block */\n",
              "\n",
              "#sk-container-id-3 div.sk-serial {\n",
              "  display: flex;\n",
              "  flex-direction: column;\n",
              "  align-items: center;\n",
              "  background-color: var(--sklearn-color-background);\n",
              "  padding-right: 1em;\n",
              "  padding-left: 1em;\n",
              "}\n",
              "\n",
              "\n",
              "/* Toggleable style: style used for estimator/Pipeline/ColumnTransformer box that is\n",
              "clickable and can be expanded/collapsed.\n",
              "- Pipeline and ColumnTransformer use this feature and define the default style\n",
              "- Estimators will overwrite some part of the style using the `sk-estimator` class\n",
              "*/\n",
              "\n",
              "/* Pipeline and ColumnTransformer style (default) */\n",
              "\n",
              "#sk-container-id-3 div.sk-toggleable {\n",
              "  /* Default theme specific background. It is overwritten whether we have a\n",
              "  specific estimator or a Pipeline/ColumnTransformer */\n",
              "  background-color: var(--sklearn-color-background);\n",
              "}\n",
              "\n",
              "/* Toggleable label */\n",
              "#sk-container-id-3 label.sk-toggleable__label {\n",
              "  cursor: pointer;\n",
              "  display: block;\n",
              "  width: 100%;\n",
              "  margin-bottom: 0;\n",
              "  padding: 0.5em;\n",
              "  box-sizing: border-box;\n",
              "  text-align: center;\n",
              "}\n",
              "\n",
              "#sk-container-id-3 label.sk-toggleable__label-arrow:before {\n",
              "  /* Arrow on the left of the label */\n",
              "  content: \"▸\";\n",
              "  float: left;\n",
              "  margin-right: 0.25em;\n",
              "  color: var(--sklearn-color-icon);\n",
              "}\n",
              "\n",
              "#sk-container-id-3 label.sk-toggleable__label-arrow:hover:before {\n",
              "  color: var(--sklearn-color-text);\n",
              "}\n",
              "\n",
              "/* Toggleable content - dropdown */\n",
              "\n",
              "#sk-container-id-3 div.sk-toggleable__content {\n",
              "  max-height: 0;\n",
              "  max-width: 0;\n",
              "  overflow: hidden;\n",
              "  text-align: left;\n",
              "  /* unfitted */\n",
              "  background-color: var(--sklearn-color-unfitted-level-0);\n",
              "}\n",
              "\n",
              "#sk-container-id-3 div.sk-toggleable__content.fitted {\n",
              "  /* fitted */\n",
              "  background-color: var(--sklearn-color-fitted-level-0);\n",
              "}\n",
              "\n",
              "#sk-container-id-3 div.sk-toggleable__content pre {\n",
              "  margin: 0.2em;\n",
              "  border-radius: 0.25em;\n",
              "  color: var(--sklearn-color-text);\n",
              "  /* unfitted */\n",
              "  background-color: var(--sklearn-color-unfitted-level-0);\n",
              "}\n",
              "\n",
              "#sk-container-id-3 div.sk-toggleable__content.fitted pre {\n",
              "  /* unfitted */\n",
              "  background-color: var(--sklearn-color-fitted-level-0);\n",
              "}\n",
              "\n",
              "#sk-container-id-3 input.sk-toggleable__control:checked~div.sk-toggleable__content {\n",
              "  /* Expand drop-down */\n",
              "  max-height: 200px;\n",
              "  max-width: 100%;\n",
              "  overflow: auto;\n",
              "}\n",
              "\n",
              "#sk-container-id-3 input.sk-toggleable__control:checked~label.sk-toggleable__label-arrow:before {\n",
              "  content: \"▾\";\n",
              "}\n",
              "\n",
              "/* Pipeline/ColumnTransformer-specific style */\n",
              "\n",
              "#sk-container-id-3 div.sk-label input.sk-toggleable__control:checked~label.sk-toggleable__label {\n",
              "  color: var(--sklearn-color-text);\n",
              "  background-color: var(--sklearn-color-unfitted-level-2);\n",
              "}\n",
              "\n",
              "#sk-container-id-3 div.sk-label.fitted input.sk-toggleable__control:checked~label.sk-toggleable__label {\n",
              "  background-color: var(--sklearn-color-fitted-level-2);\n",
              "}\n",
              "\n",
              "/* Estimator-specific style */\n",
              "\n",
              "/* Colorize estimator box */\n",
              "#sk-container-id-3 div.sk-estimator input.sk-toggleable__control:checked~label.sk-toggleable__label {\n",
              "  /* unfitted */\n",
              "  background-color: var(--sklearn-color-unfitted-level-2);\n",
              "}\n",
              "\n",
              "#sk-container-id-3 div.sk-estimator.fitted input.sk-toggleable__control:checked~label.sk-toggleable__label {\n",
              "  /* fitted */\n",
              "  background-color: var(--sklearn-color-fitted-level-2);\n",
              "}\n",
              "\n",
              "#sk-container-id-3 div.sk-label label.sk-toggleable__label,\n",
              "#sk-container-id-3 div.sk-label label {\n",
              "  /* The background is the default theme color */\n",
              "  color: var(--sklearn-color-text-on-default-background);\n",
              "}\n",
              "\n",
              "/* On hover, darken the color of the background */\n",
              "#sk-container-id-3 div.sk-label:hover label.sk-toggleable__label {\n",
              "  color: var(--sklearn-color-text);\n",
              "  background-color: var(--sklearn-color-unfitted-level-2);\n",
              "}\n",
              "\n",
              "/* Label box, darken color on hover, fitted */\n",
              "#sk-container-id-3 div.sk-label.fitted:hover label.sk-toggleable__label.fitted {\n",
              "  color: var(--sklearn-color-text);\n",
              "  background-color: var(--sklearn-color-fitted-level-2);\n",
              "}\n",
              "\n",
              "/* Estimator label */\n",
              "\n",
              "#sk-container-id-3 div.sk-label label {\n",
              "  font-family: monospace;\n",
              "  font-weight: bold;\n",
              "  display: inline-block;\n",
              "  line-height: 1.2em;\n",
              "}\n",
              "\n",
              "#sk-container-id-3 div.sk-label-container {\n",
              "  text-align: center;\n",
              "}\n",
              "\n",
              "/* Estimator-specific */\n",
              "#sk-container-id-3 div.sk-estimator {\n",
              "  font-family: monospace;\n",
              "  border: 1px dotted var(--sklearn-color-border-box);\n",
              "  border-radius: 0.25em;\n",
              "  box-sizing: border-box;\n",
              "  margin-bottom: 0.5em;\n",
              "  /* unfitted */\n",
              "  background-color: var(--sklearn-color-unfitted-level-0);\n",
              "}\n",
              "\n",
              "#sk-container-id-3 div.sk-estimator.fitted {\n",
              "  /* fitted */\n",
              "  background-color: var(--sklearn-color-fitted-level-0);\n",
              "}\n",
              "\n",
              "/* on hover */\n",
              "#sk-container-id-3 div.sk-estimator:hover {\n",
              "  /* unfitted */\n",
              "  background-color: var(--sklearn-color-unfitted-level-2);\n",
              "}\n",
              "\n",
              "#sk-container-id-3 div.sk-estimator.fitted:hover {\n",
              "  /* fitted */\n",
              "  background-color: var(--sklearn-color-fitted-level-2);\n",
              "}\n",
              "\n",
              "/* Specification for estimator info (e.g. \"i\" and \"?\") */\n",
              "\n",
              "/* Common style for \"i\" and \"?\" */\n",
              "\n",
              ".sk-estimator-doc-link,\n",
              "a:link.sk-estimator-doc-link,\n",
              "a:visited.sk-estimator-doc-link {\n",
              "  float: right;\n",
              "  font-size: smaller;\n",
              "  line-height: 1em;\n",
              "  font-family: monospace;\n",
              "  background-color: var(--sklearn-color-background);\n",
              "  border-radius: 1em;\n",
              "  height: 1em;\n",
              "  width: 1em;\n",
              "  text-decoration: none !important;\n",
              "  margin-left: 1ex;\n",
              "  /* unfitted */\n",
              "  border: var(--sklearn-color-unfitted-level-1) 1pt solid;\n",
              "  color: var(--sklearn-color-unfitted-level-1);\n",
              "}\n",
              "\n",
              ".sk-estimator-doc-link.fitted,\n",
              "a:link.sk-estimator-doc-link.fitted,\n",
              "a:visited.sk-estimator-doc-link.fitted {\n",
              "  /* fitted */\n",
              "  border: var(--sklearn-color-fitted-level-1) 1pt solid;\n",
              "  color: var(--sklearn-color-fitted-level-1);\n",
              "}\n",
              "\n",
              "/* On hover */\n",
              "div.sk-estimator:hover .sk-estimator-doc-link:hover,\n",
              ".sk-estimator-doc-link:hover,\n",
              "div.sk-label-container:hover .sk-estimator-doc-link:hover,\n",
              ".sk-estimator-doc-link:hover {\n",
              "  /* unfitted */\n",
              "  background-color: var(--sklearn-color-unfitted-level-3);\n",
              "  color: var(--sklearn-color-background);\n",
              "  text-decoration: none;\n",
              "}\n",
              "\n",
              "div.sk-estimator.fitted:hover .sk-estimator-doc-link.fitted:hover,\n",
              ".sk-estimator-doc-link.fitted:hover,\n",
              "div.sk-label-container:hover .sk-estimator-doc-link.fitted:hover,\n",
              ".sk-estimator-doc-link.fitted:hover {\n",
              "  /* fitted */\n",
              "  background-color: var(--sklearn-color-fitted-level-3);\n",
              "  color: var(--sklearn-color-background);\n",
              "  text-decoration: none;\n",
              "}\n",
              "\n",
              "/* Span, style for the box shown on hovering the info icon */\n",
              ".sk-estimator-doc-link span {\n",
              "  display: none;\n",
              "  z-index: 9999;\n",
              "  position: relative;\n",
              "  font-weight: normal;\n",
              "  right: .2ex;\n",
              "  padding: .5ex;\n",
              "  margin: .5ex;\n",
              "  width: min-content;\n",
              "  min-width: 20ex;\n",
              "  max-width: 50ex;\n",
              "  color: var(--sklearn-color-text);\n",
              "  box-shadow: 2pt 2pt 4pt #999;\n",
              "  /* unfitted */\n",
              "  background: var(--sklearn-color-unfitted-level-0);\n",
              "  border: .5pt solid var(--sklearn-color-unfitted-level-3);\n",
              "}\n",
              "\n",
              ".sk-estimator-doc-link.fitted span {\n",
              "  /* fitted */\n",
              "  background: var(--sklearn-color-fitted-level-0);\n",
              "  border: var(--sklearn-color-fitted-level-3);\n",
              "}\n",
              "\n",
              ".sk-estimator-doc-link:hover span {\n",
              "  display: block;\n",
              "}\n",
              "\n",
              "/* \"?\"-specific style due to the `<a>` HTML tag */\n",
              "\n",
              "#sk-container-id-3 a.estimator_doc_link {\n",
              "  float: right;\n",
              "  font-size: 1rem;\n",
              "  line-height: 1em;\n",
              "  font-family: monospace;\n",
              "  background-color: var(--sklearn-color-background);\n",
              "  border-radius: 1rem;\n",
              "  height: 1rem;\n",
              "  width: 1rem;\n",
              "  text-decoration: none;\n",
              "  /* unfitted */\n",
              "  color: var(--sklearn-color-unfitted-level-1);\n",
              "  border: var(--sklearn-color-unfitted-level-1) 1pt solid;\n",
              "}\n",
              "\n",
              "#sk-container-id-3 a.estimator_doc_link.fitted {\n",
              "  /* fitted */\n",
              "  border: var(--sklearn-color-fitted-level-1) 1pt solid;\n",
              "  color: var(--sklearn-color-fitted-level-1);\n",
              "}\n",
              "\n",
              "/* On hover */\n",
              "#sk-container-id-3 a.estimator_doc_link:hover {\n",
              "  /* unfitted */\n",
              "  background-color: var(--sklearn-color-unfitted-level-3);\n",
              "  color: var(--sklearn-color-background);\n",
              "  text-decoration: none;\n",
              "}\n",
              "\n",
              "#sk-container-id-3 a.estimator_doc_link.fitted:hover {\n",
              "  /* fitted */\n",
              "  background-color: var(--sklearn-color-fitted-level-3);\n",
              "}\n",
              "</style><div id=\"sk-container-id-3\" class=\"sk-top-container\"><div class=\"sk-text-repr-fallback\"><pre>GridSearchCV(cv=StratifiedKFold(n_splits=5, random_state=42, shuffle=True),\n",
              "             estimator=KNeighborsClassifier(), n_jobs=-1,\n",
              "             param_grid={&#x27;n_neighbors&#x27;: [3, 5, 7, 9], &#x27;p&#x27;: [1, 2],\n",
              "                         &#x27;weights&#x27;: [&#x27;uniform&#x27;, &#x27;distance&#x27;]},\n",
              "             scoring=&#x27;f1_weighted&#x27;)</pre><b>In a Jupyter environment, please rerun this cell to show the HTML representation or trust the notebook. <br />On GitHub, the HTML representation is unable to render, please try loading this page with nbviewer.org.</b></div><div class=\"sk-container\" hidden><div class=\"sk-item sk-dashed-wrapped\"><div class=\"sk-label-container\"><div class=\"sk-label fitted sk-toggleable\"><input class=\"sk-toggleable__control sk-hidden--visually\" id=\"sk-estimator-id-7\" type=\"checkbox\" ><label for=\"sk-estimator-id-7\" class=\"sk-toggleable__label fitted sk-toggleable__label-arrow fitted\">&nbsp;&nbsp;GridSearchCV<a class=\"sk-estimator-doc-link fitted\" rel=\"noreferrer\" target=\"_blank\" href=\"https://scikit-learn.org/1.5/modules/generated/sklearn.model_selection.GridSearchCV.html\">?<span>Documentation for GridSearchCV</span></a><span class=\"sk-estimator-doc-link fitted\">i<span>Fitted</span></span></label><div class=\"sk-toggleable__content fitted\"><pre>GridSearchCV(cv=StratifiedKFold(n_splits=5, random_state=42, shuffle=True),\n",
              "             estimator=KNeighborsClassifier(), n_jobs=-1,\n",
              "             param_grid={&#x27;n_neighbors&#x27;: [3, 5, 7, 9], &#x27;p&#x27;: [1, 2],\n",
              "                         &#x27;weights&#x27;: [&#x27;uniform&#x27;, &#x27;distance&#x27;]},\n",
              "             scoring=&#x27;f1_weighted&#x27;)</pre></div> </div></div><div class=\"sk-parallel\"><div class=\"sk-parallel-item\"><div class=\"sk-item\"><div class=\"sk-label-container\"><div class=\"sk-label fitted sk-toggleable\"><input class=\"sk-toggleable__control sk-hidden--visually\" id=\"sk-estimator-id-8\" type=\"checkbox\" ><label for=\"sk-estimator-id-8\" class=\"sk-toggleable__label fitted sk-toggleable__label-arrow fitted\">best_estimator_: KNeighborsClassifier</label><div class=\"sk-toggleable__content fitted\"><pre>KNeighborsClassifier(n_neighbors=7, p=1, weights=&#x27;distance&#x27;)</pre></div> </div></div><div class=\"sk-serial\"><div class=\"sk-item\"><div class=\"sk-estimator fitted sk-toggleable\"><input class=\"sk-toggleable__control sk-hidden--visually\" id=\"sk-estimator-id-9\" type=\"checkbox\" ><label for=\"sk-estimator-id-9\" class=\"sk-toggleable__label fitted sk-toggleable__label-arrow fitted\">&nbsp;KNeighborsClassifier<a class=\"sk-estimator-doc-link fitted\" rel=\"noreferrer\" target=\"_blank\" href=\"https://scikit-learn.org/1.5/modules/generated/sklearn.neighbors.KNeighborsClassifier.html\">?<span>Documentation for KNeighborsClassifier</span></a></label><div class=\"sk-toggleable__content fitted\"><pre>KNeighborsClassifier(n_neighbors=7, p=1, weights=&#x27;distance&#x27;)</pre></div> </div></div></div></div></div></div></div></div></div>"
            ],
            "text/plain": [
              "GridSearchCV(cv=StratifiedKFold(n_splits=5, random_state=42, shuffle=True),\n",
              "             estimator=KNeighborsClassifier(), n_jobs=-1,\n",
              "             param_grid={'n_neighbors': [3, 5, 7, 9], 'p': [1, 2],\n",
              "                         'weights': ['uniform', 'distance']},\n",
              "             scoring='f1_weighted')"
            ]
          },
          "execution_count": 18,
          "metadata": {},
          "output_type": "execute_result"
        }
      ],
      "source": [
        "grid_knn = GridSearchCV(\n",
        "    estimator=KNeighborsClassifier(),\n",
        "    param_grid=param_grid_knn,\n",
        "    cv=cv,\n",
        "    scoring='f1_weighted',\n",
        "    n_jobs=-1\n",
        ")\n",
        "grid_knn.fit(X_train, y_train)"
      ]
    },
    {
      "cell_type": "code",
      "execution_count": null,
      "id": "3e4363a2-99b5-44d1-9b11-834fe6e1bc9f",
      "metadata": {
        "id": "3e4363a2-99b5-44d1-9b11-834fe6e1bc9f",
        "outputId": "14d368d1-e5a6-44af-f984-946d80f4038f"
      },
      "outputs": [
        {
          "name": "stdout",
          "output_type": "stream",
          "text": [
            "Mejores hiperparámetros: {'n_neighbors': 7, 'p': 1, 'weights': 'distance'}\n",
            "F1-weighted CV: 0.3054340129152883\n",
            "Accuracy test: 0.27\n",
            "Matriz de confusión:\n",
            "[[ 3  3  3  9]\n",
            " [ 1  7  8 10]\n",
            " [ 4  6  6 10]\n",
            " [ 4  8  7 11]]\n",
            "Reporte de clasificación:\n",
            "              precision    recall  f1-score   support\n",
            "\n",
            "           0       0.25      0.17      0.20        18\n",
            "           1       0.29      0.27      0.28        26\n",
            "           2       0.25      0.23      0.24        26\n",
            "           3       0.28      0.37      0.31        30\n",
            "\n",
            "    accuracy                           0.27       100\n",
            "   macro avg       0.27      0.26      0.26       100\n",
            "weighted avg       0.27      0.27      0.27       100\n",
            "\n"
          ]
        }
      ],
      "source": [
        "y_pred_knn = grid_knn.best_estimator_.predict(X_test)\n",
        "\n",
        "print(\"Mejores hiperparámetros:\", grid_knn.best_params_)\n",
        "print(\"F1-weighted CV:\", grid_knn.best_score_)\n",
        "print(\"Accuracy test:\", grid_knn.best_estimator_.score(X_test, y_test))\n",
        "print(\"Matriz de confusión:\")\n",
        "print(confusion_matrix(y_test, y_pred_knn))\n",
        "print(\"Reporte de clasificación:\")\n",
        "print(classification_report(y_test, y_pred_knn, zero_division=0))"
      ]
    },
    {
      "cell_type": "markdown",
      "id": "8efb51c1-e7da-4f52-87fa-30be10ffae0c",
      "metadata": {
        "jp-MarkdownHeadingCollapsed": true,
        "id": "8efb51c1-e7da-4f52-87fa-30be10ffae0c"
      },
      "source": [
        "### Regresión Logística"
      ]
    },
    {
      "cell_type": "code",
      "execution_count": null,
      "id": "c9223591-94f4-4519-9d26-beac1d2b9b77",
      "metadata": {
        "id": "c9223591-94f4-4519-9d26-beac1d2b9b77"
      },
      "outputs": [],
      "source": [
        "param_grid_lr = {\n",
        "    'C': [0.01, 0.1, 1, 10],\n",
        "    'penalty': ['l1', 'l2'],\n",
        "    'solver': ['liblinear']\n",
        "}"
      ]
    },
    {
      "cell_type": "code",
      "execution_count": null,
      "id": "d1718c11-e712-4bcc-9495-6d643857015f",
      "metadata": {
        "id": "d1718c11-e712-4bcc-9495-6d643857015f",
        "outputId": "8dcef33d-9152-4675-b4b2-745dd5713d11"
      },
      "outputs": [
        {
          "data": {
            "text/html": [
              "<style>#sk-container-id-6 {\n",
              "  /* Definition of color scheme common for light and dark mode */\n",
              "  --sklearn-color-text: black;\n",
              "  --sklearn-color-line: gray;\n",
              "  /* Definition of color scheme for unfitted estimators */\n",
              "  --sklearn-color-unfitted-level-0: #fff5e6;\n",
              "  --sklearn-color-unfitted-level-1: #f6e4d2;\n",
              "  --sklearn-color-unfitted-level-2: #ffe0b3;\n",
              "  --sklearn-color-unfitted-level-3: chocolate;\n",
              "  /* Definition of color scheme for fitted estimators */\n",
              "  --sklearn-color-fitted-level-0: #f0f8ff;\n",
              "  --sklearn-color-fitted-level-1: #d4ebff;\n",
              "  --sklearn-color-fitted-level-2: #b3dbfd;\n",
              "  --sklearn-color-fitted-level-3: cornflowerblue;\n",
              "\n",
              "  /* Specific color for light theme */\n",
              "  --sklearn-color-text-on-default-background: var(--sg-text-color, var(--theme-code-foreground, var(--jp-content-font-color1, black)));\n",
              "  --sklearn-color-background: var(--sg-background-color, var(--theme-background, var(--jp-layout-color0, white)));\n",
              "  --sklearn-color-border-box: var(--sg-text-color, var(--theme-code-foreground, var(--jp-content-font-color1, black)));\n",
              "  --sklearn-color-icon: #696969;\n",
              "\n",
              "  @media (prefers-color-scheme: dark) {\n",
              "    /* Redefinition of color scheme for dark theme */\n",
              "    --sklearn-color-text-on-default-background: var(--sg-text-color, var(--theme-code-foreground, var(--jp-content-font-color1, white)));\n",
              "    --sklearn-color-background: var(--sg-background-color, var(--theme-background, var(--jp-layout-color0, #111)));\n",
              "    --sklearn-color-border-box: var(--sg-text-color, var(--theme-code-foreground, var(--jp-content-font-color1, white)));\n",
              "    --sklearn-color-icon: #878787;\n",
              "  }\n",
              "}\n",
              "\n",
              "#sk-container-id-6 {\n",
              "  color: var(--sklearn-color-text);\n",
              "}\n",
              "\n",
              "#sk-container-id-6 pre {\n",
              "  padding: 0;\n",
              "}\n",
              "\n",
              "#sk-container-id-6 input.sk-hidden--visually {\n",
              "  border: 0;\n",
              "  clip: rect(1px 1px 1px 1px);\n",
              "  clip: rect(1px, 1px, 1px, 1px);\n",
              "  height: 1px;\n",
              "  margin: -1px;\n",
              "  overflow: hidden;\n",
              "  padding: 0;\n",
              "  position: absolute;\n",
              "  width: 1px;\n",
              "}\n",
              "\n",
              "#sk-container-id-6 div.sk-dashed-wrapped {\n",
              "  border: 1px dashed var(--sklearn-color-line);\n",
              "  margin: 0 0.4em 0.5em 0.4em;\n",
              "  box-sizing: border-box;\n",
              "  padding-bottom: 0.4em;\n",
              "  background-color: var(--sklearn-color-background);\n",
              "}\n",
              "\n",
              "#sk-container-id-6 div.sk-container {\n",
              "  /* jupyter's `normalize.less` sets `[hidden] { display: none; }`\n",
              "     but bootstrap.min.css set `[hidden] { display: none !important; }`\n",
              "     so we also need the `!important` here to be able to override the\n",
              "     default hidden behavior on the sphinx rendered scikit-learn.org.\n",
              "     See: https://github.com/scikit-learn/scikit-learn/issues/21755 */\n",
              "  display: inline-block !important;\n",
              "  position: relative;\n",
              "}\n",
              "\n",
              "#sk-container-id-6 div.sk-text-repr-fallback {\n",
              "  display: none;\n",
              "}\n",
              "\n",
              "div.sk-parallel-item,\n",
              "div.sk-serial,\n",
              "div.sk-item {\n",
              "  /* draw centered vertical line to link estimators */\n",
              "  background-image: linear-gradient(var(--sklearn-color-text-on-default-background), var(--sklearn-color-text-on-default-background));\n",
              "  background-size: 2px 100%;\n",
              "  background-repeat: no-repeat;\n",
              "  background-position: center center;\n",
              "}\n",
              "\n",
              "/* Parallel-specific style estimator block */\n",
              "\n",
              "#sk-container-id-6 div.sk-parallel-item::after {\n",
              "  content: \"\";\n",
              "  width: 100%;\n",
              "  border-bottom: 2px solid var(--sklearn-color-text-on-default-background);\n",
              "  flex-grow: 1;\n",
              "}\n",
              "\n",
              "#sk-container-id-6 div.sk-parallel {\n",
              "  display: flex;\n",
              "  align-items: stretch;\n",
              "  justify-content: center;\n",
              "  background-color: var(--sklearn-color-background);\n",
              "  position: relative;\n",
              "}\n",
              "\n",
              "#sk-container-id-6 div.sk-parallel-item {\n",
              "  display: flex;\n",
              "  flex-direction: column;\n",
              "}\n",
              "\n",
              "#sk-container-id-6 div.sk-parallel-item:first-child::after {\n",
              "  align-self: flex-end;\n",
              "  width: 50%;\n",
              "}\n",
              "\n",
              "#sk-container-id-6 div.sk-parallel-item:last-child::after {\n",
              "  align-self: flex-start;\n",
              "  width: 50%;\n",
              "}\n",
              "\n",
              "#sk-container-id-6 div.sk-parallel-item:only-child::after {\n",
              "  width: 0;\n",
              "}\n",
              "\n",
              "/* Serial-specific style estimator block */\n",
              "\n",
              "#sk-container-id-6 div.sk-serial {\n",
              "  display: flex;\n",
              "  flex-direction: column;\n",
              "  align-items: center;\n",
              "  background-color: var(--sklearn-color-background);\n",
              "  padding-right: 1em;\n",
              "  padding-left: 1em;\n",
              "}\n",
              "\n",
              "\n",
              "/* Toggleable style: style used for estimator/Pipeline/ColumnTransformer box that is\n",
              "clickable and can be expanded/collapsed.\n",
              "- Pipeline and ColumnTransformer use this feature and define the default style\n",
              "- Estimators will overwrite some part of the style using the `sk-estimator` class\n",
              "*/\n",
              "\n",
              "/* Pipeline and ColumnTransformer style (default) */\n",
              "\n",
              "#sk-container-id-6 div.sk-toggleable {\n",
              "  /* Default theme specific background. It is overwritten whether we have a\n",
              "  specific estimator or a Pipeline/ColumnTransformer */\n",
              "  background-color: var(--sklearn-color-background);\n",
              "}\n",
              "\n",
              "/* Toggleable label */\n",
              "#sk-container-id-6 label.sk-toggleable__label {\n",
              "  cursor: pointer;\n",
              "  display: block;\n",
              "  width: 100%;\n",
              "  margin-bottom: 0;\n",
              "  padding: 0.5em;\n",
              "  box-sizing: border-box;\n",
              "  text-align: center;\n",
              "}\n",
              "\n",
              "#sk-container-id-6 label.sk-toggleable__label-arrow:before {\n",
              "  /* Arrow on the left of the label */\n",
              "  content: \"▸\";\n",
              "  float: left;\n",
              "  margin-right: 0.25em;\n",
              "  color: var(--sklearn-color-icon);\n",
              "}\n",
              "\n",
              "#sk-container-id-6 label.sk-toggleable__label-arrow:hover:before {\n",
              "  color: var(--sklearn-color-text);\n",
              "}\n",
              "\n",
              "/* Toggleable content - dropdown */\n",
              "\n",
              "#sk-container-id-6 div.sk-toggleable__content {\n",
              "  max-height: 0;\n",
              "  max-width: 0;\n",
              "  overflow: hidden;\n",
              "  text-align: left;\n",
              "  /* unfitted */\n",
              "  background-color: var(--sklearn-color-unfitted-level-0);\n",
              "}\n",
              "\n",
              "#sk-container-id-6 div.sk-toggleable__content.fitted {\n",
              "  /* fitted */\n",
              "  background-color: var(--sklearn-color-fitted-level-0);\n",
              "}\n",
              "\n",
              "#sk-container-id-6 div.sk-toggleable__content pre {\n",
              "  margin: 0.2em;\n",
              "  border-radius: 0.25em;\n",
              "  color: var(--sklearn-color-text);\n",
              "  /* unfitted */\n",
              "  background-color: var(--sklearn-color-unfitted-level-0);\n",
              "}\n",
              "\n",
              "#sk-container-id-6 div.sk-toggleable__content.fitted pre {\n",
              "  /* unfitted */\n",
              "  background-color: var(--sklearn-color-fitted-level-0);\n",
              "}\n",
              "\n",
              "#sk-container-id-6 input.sk-toggleable__control:checked~div.sk-toggleable__content {\n",
              "  /* Expand drop-down */\n",
              "  max-height: 200px;\n",
              "  max-width: 100%;\n",
              "  overflow: auto;\n",
              "}\n",
              "\n",
              "#sk-container-id-6 input.sk-toggleable__control:checked~label.sk-toggleable__label-arrow:before {\n",
              "  content: \"▾\";\n",
              "}\n",
              "\n",
              "/* Pipeline/ColumnTransformer-specific style */\n",
              "\n",
              "#sk-container-id-6 div.sk-label input.sk-toggleable__control:checked~label.sk-toggleable__label {\n",
              "  color: var(--sklearn-color-text);\n",
              "  background-color: var(--sklearn-color-unfitted-level-2);\n",
              "}\n",
              "\n",
              "#sk-container-id-6 div.sk-label.fitted input.sk-toggleable__control:checked~label.sk-toggleable__label {\n",
              "  background-color: var(--sklearn-color-fitted-level-2);\n",
              "}\n",
              "\n",
              "/* Estimator-specific style */\n",
              "\n",
              "/* Colorize estimator box */\n",
              "#sk-container-id-6 div.sk-estimator input.sk-toggleable__control:checked~label.sk-toggleable__label {\n",
              "  /* unfitted */\n",
              "  background-color: var(--sklearn-color-unfitted-level-2);\n",
              "}\n",
              "\n",
              "#sk-container-id-6 div.sk-estimator.fitted input.sk-toggleable__control:checked~label.sk-toggleable__label {\n",
              "  /* fitted */\n",
              "  background-color: var(--sklearn-color-fitted-level-2);\n",
              "}\n",
              "\n",
              "#sk-container-id-6 div.sk-label label.sk-toggleable__label,\n",
              "#sk-container-id-6 div.sk-label label {\n",
              "  /* The background is the default theme color */\n",
              "  color: var(--sklearn-color-text-on-default-background);\n",
              "}\n",
              "\n",
              "/* On hover, darken the color of the background */\n",
              "#sk-container-id-6 div.sk-label:hover label.sk-toggleable__label {\n",
              "  color: var(--sklearn-color-text);\n",
              "  background-color: var(--sklearn-color-unfitted-level-2);\n",
              "}\n",
              "\n",
              "/* Label box, darken color on hover, fitted */\n",
              "#sk-container-id-6 div.sk-label.fitted:hover label.sk-toggleable__label.fitted {\n",
              "  color: var(--sklearn-color-text);\n",
              "  background-color: var(--sklearn-color-fitted-level-2);\n",
              "}\n",
              "\n",
              "/* Estimator label */\n",
              "\n",
              "#sk-container-id-6 div.sk-label label {\n",
              "  font-family: monospace;\n",
              "  font-weight: bold;\n",
              "  display: inline-block;\n",
              "  line-height: 1.2em;\n",
              "}\n",
              "\n",
              "#sk-container-id-6 div.sk-label-container {\n",
              "  text-align: center;\n",
              "}\n",
              "\n",
              "/* Estimator-specific */\n",
              "#sk-container-id-6 div.sk-estimator {\n",
              "  font-family: monospace;\n",
              "  border: 1px dotted var(--sklearn-color-border-box);\n",
              "  border-radius: 0.25em;\n",
              "  box-sizing: border-box;\n",
              "  margin-bottom: 0.5em;\n",
              "  /* unfitted */\n",
              "  background-color: var(--sklearn-color-unfitted-level-0);\n",
              "}\n",
              "\n",
              "#sk-container-id-6 div.sk-estimator.fitted {\n",
              "  /* fitted */\n",
              "  background-color: var(--sklearn-color-fitted-level-0);\n",
              "}\n",
              "\n",
              "/* on hover */\n",
              "#sk-container-id-6 div.sk-estimator:hover {\n",
              "  /* unfitted */\n",
              "  background-color: var(--sklearn-color-unfitted-level-2);\n",
              "}\n",
              "\n",
              "#sk-container-id-6 div.sk-estimator.fitted:hover {\n",
              "  /* fitted */\n",
              "  background-color: var(--sklearn-color-fitted-level-2);\n",
              "}\n",
              "\n",
              "/* Specification for estimator info (e.g. \"i\" and \"?\") */\n",
              "\n",
              "/* Common style for \"i\" and \"?\" */\n",
              "\n",
              ".sk-estimator-doc-link,\n",
              "a:link.sk-estimator-doc-link,\n",
              "a:visited.sk-estimator-doc-link {\n",
              "  float: right;\n",
              "  font-size: smaller;\n",
              "  line-height: 1em;\n",
              "  font-family: monospace;\n",
              "  background-color: var(--sklearn-color-background);\n",
              "  border-radius: 1em;\n",
              "  height: 1em;\n",
              "  width: 1em;\n",
              "  text-decoration: none !important;\n",
              "  margin-left: 1ex;\n",
              "  /* unfitted */\n",
              "  border: var(--sklearn-color-unfitted-level-1) 1pt solid;\n",
              "  color: var(--sklearn-color-unfitted-level-1);\n",
              "}\n",
              "\n",
              ".sk-estimator-doc-link.fitted,\n",
              "a:link.sk-estimator-doc-link.fitted,\n",
              "a:visited.sk-estimator-doc-link.fitted {\n",
              "  /* fitted */\n",
              "  border: var(--sklearn-color-fitted-level-1) 1pt solid;\n",
              "  color: var(--sklearn-color-fitted-level-1);\n",
              "}\n",
              "\n",
              "/* On hover */\n",
              "div.sk-estimator:hover .sk-estimator-doc-link:hover,\n",
              ".sk-estimator-doc-link:hover,\n",
              "div.sk-label-container:hover .sk-estimator-doc-link:hover,\n",
              ".sk-estimator-doc-link:hover {\n",
              "  /* unfitted */\n",
              "  background-color: var(--sklearn-color-unfitted-level-3);\n",
              "  color: var(--sklearn-color-background);\n",
              "  text-decoration: none;\n",
              "}\n",
              "\n",
              "div.sk-estimator.fitted:hover .sk-estimator-doc-link.fitted:hover,\n",
              ".sk-estimator-doc-link.fitted:hover,\n",
              "div.sk-label-container:hover .sk-estimator-doc-link.fitted:hover,\n",
              ".sk-estimator-doc-link.fitted:hover {\n",
              "  /* fitted */\n",
              "  background-color: var(--sklearn-color-fitted-level-3);\n",
              "  color: var(--sklearn-color-background);\n",
              "  text-decoration: none;\n",
              "}\n",
              "\n",
              "/* Span, style for the box shown on hovering the info icon */\n",
              ".sk-estimator-doc-link span {\n",
              "  display: none;\n",
              "  z-index: 9999;\n",
              "  position: relative;\n",
              "  font-weight: normal;\n",
              "  right: .2ex;\n",
              "  padding: .5ex;\n",
              "  margin: .5ex;\n",
              "  width: min-content;\n",
              "  min-width: 20ex;\n",
              "  max-width: 50ex;\n",
              "  color: var(--sklearn-color-text);\n",
              "  box-shadow: 2pt 2pt 4pt #999;\n",
              "  /* unfitted */\n",
              "  background: var(--sklearn-color-unfitted-level-0);\n",
              "  border: .5pt solid var(--sklearn-color-unfitted-level-3);\n",
              "}\n",
              "\n",
              ".sk-estimator-doc-link.fitted span {\n",
              "  /* fitted */\n",
              "  background: var(--sklearn-color-fitted-level-0);\n",
              "  border: var(--sklearn-color-fitted-level-3);\n",
              "}\n",
              "\n",
              ".sk-estimator-doc-link:hover span {\n",
              "  display: block;\n",
              "}\n",
              "\n",
              "/* \"?\"-specific style due to the `<a>` HTML tag */\n",
              "\n",
              "#sk-container-id-6 a.estimator_doc_link {\n",
              "  float: right;\n",
              "  font-size: 1rem;\n",
              "  line-height: 1em;\n",
              "  font-family: monospace;\n",
              "  background-color: var(--sklearn-color-background);\n",
              "  border-radius: 1rem;\n",
              "  height: 1rem;\n",
              "  width: 1rem;\n",
              "  text-decoration: none;\n",
              "  /* unfitted */\n",
              "  color: var(--sklearn-color-unfitted-level-1);\n",
              "  border: var(--sklearn-color-unfitted-level-1) 1pt solid;\n",
              "}\n",
              "\n",
              "#sk-container-id-6 a.estimator_doc_link.fitted {\n",
              "  /* fitted */\n",
              "  border: var(--sklearn-color-fitted-level-1) 1pt solid;\n",
              "  color: var(--sklearn-color-fitted-level-1);\n",
              "}\n",
              "\n",
              "/* On hover */\n",
              "#sk-container-id-6 a.estimator_doc_link:hover {\n",
              "  /* unfitted */\n",
              "  background-color: var(--sklearn-color-unfitted-level-3);\n",
              "  color: var(--sklearn-color-background);\n",
              "  text-decoration: none;\n",
              "}\n",
              "\n",
              "#sk-container-id-6 a.estimator_doc_link.fitted:hover {\n",
              "  /* fitted */\n",
              "  background-color: var(--sklearn-color-fitted-level-3);\n",
              "}\n",
              "</style><div id=\"sk-container-id-6\" class=\"sk-top-container\"><div class=\"sk-text-repr-fallback\"><pre>GridSearchCV(cv=StratifiedKFold(n_splits=5, random_state=42, shuffle=True),\n",
              "             estimator=LogisticRegression(max_iter=1000, random_state=42),\n",
              "             n_jobs=-1,\n",
              "             param_grid={&#x27;C&#x27;: [0.01, 0.1, 1, 10], &#x27;penalty&#x27;: [&#x27;l1&#x27;, &#x27;l2&#x27;],\n",
              "                         &#x27;solver&#x27;: [&#x27;liblinear&#x27;]},\n",
              "             scoring=&#x27;f1_weighted&#x27;)</pre><b>In a Jupyter environment, please rerun this cell to show the HTML representation or trust the notebook. <br />On GitHub, the HTML representation is unable to render, please try loading this page with nbviewer.org.</b></div><div class=\"sk-container\" hidden><div class=\"sk-item sk-dashed-wrapped\"><div class=\"sk-label-container\"><div class=\"sk-label fitted sk-toggleable\"><input class=\"sk-toggleable__control sk-hidden--visually\" id=\"sk-estimator-id-16\" type=\"checkbox\" ><label for=\"sk-estimator-id-16\" class=\"sk-toggleable__label fitted sk-toggleable__label-arrow fitted\">&nbsp;&nbsp;GridSearchCV<a class=\"sk-estimator-doc-link fitted\" rel=\"noreferrer\" target=\"_blank\" href=\"https://scikit-learn.org/1.5/modules/generated/sklearn.model_selection.GridSearchCV.html\">?<span>Documentation for GridSearchCV</span></a><span class=\"sk-estimator-doc-link fitted\">i<span>Fitted</span></span></label><div class=\"sk-toggleable__content fitted\"><pre>GridSearchCV(cv=StratifiedKFold(n_splits=5, random_state=42, shuffle=True),\n",
              "             estimator=LogisticRegression(max_iter=1000, random_state=42),\n",
              "             n_jobs=-1,\n",
              "             param_grid={&#x27;C&#x27;: [0.01, 0.1, 1, 10], &#x27;penalty&#x27;: [&#x27;l1&#x27;, &#x27;l2&#x27;],\n",
              "                         &#x27;solver&#x27;: [&#x27;liblinear&#x27;]},\n",
              "             scoring=&#x27;f1_weighted&#x27;)</pre></div> </div></div><div class=\"sk-parallel\"><div class=\"sk-parallel-item\"><div class=\"sk-item\"><div class=\"sk-label-container\"><div class=\"sk-label fitted sk-toggleable\"><input class=\"sk-toggleable__control sk-hidden--visually\" id=\"sk-estimator-id-17\" type=\"checkbox\" ><label for=\"sk-estimator-id-17\" class=\"sk-toggleable__label fitted sk-toggleable__label-arrow fitted\">best_estimator_: LogisticRegression</label><div class=\"sk-toggleable__content fitted\"><pre>LogisticRegression(C=0.01, max_iter=1000, random_state=42, solver=&#x27;liblinear&#x27;)</pre></div> </div></div><div class=\"sk-serial\"><div class=\"sk-item\"><div class=\"sk-estimator fitted sk-toggleable\"><input class=\"sk-toggleable__control sk-hidden--visually\" id=\"sk-estimator-id-18\" type=\"checkbox\" ><label for=\"sk-estimator-id-18\" class=\"sk-toggleable__label fitted sk-toggleable__label-arrow fitted\">&nbsp;LogisticRegression<a class=\"sk-estimator-doc-link fitted\" rel=\"noreferrer\" target=\"_blank\" href=\"https://scikit-learn.org/1.5/modules/generated/sklearn.linear_model.LogisticRegression.html\">?<span>Documentation for LogisticRegression</span></a></label><div class=\"sk-toggleable__content fitted\"><pre>LogisticRegression(C=0.01, max_iter=1000, random_state=42, solver=&#x27;liblinear&#x27;)</pre></div> </div></div></div></div></div></div></div></div></div>"
            ],
            "text/plain": [
              "GridSearchCV(cv=StratifiedKFold(n_splits=5, random_state=42, shuffle=True),\n",
              "             estimator=LogisticRegression(max_iter=1000, random_state=42),\n",
              "             n_jobs=-1,\n",
              "             param_grid={'C': [0.01, 0.1, 1, 10], 'penalty': ['l1', 'l2'],\n",
              "                         'solver': ['liblinear']},\n",
              "             scoring='f1_weighted')"
            ]
          },
          "execution_count": 25,
          "metadata": {},
          "output_type": "execute_result"
        }
      ],
      "source": [
        "grid_lr = GridSearchCV(\n",
        "    estimator=LogisticRegression(max_iter=1000, random_state=42),\n",
        "    param_grid=param_grid_lr,\n",
        "    cv=cv,\n",
        "    scoring='f1_weighted',\n",
        "    n_jobs=-1\n",
        ")\n",
        "grid_lr.fit(X_train, y_train)"
      ]
    },
    {
      "cell_type": "code",
      "execution_count": null,
      "id": "d5c32115-fef1-4a8d-8eb9-8097bfda75d1",
      "metadata": {
        "id": "d5c32115-fef1-4a8d-8eb9-8097bfda75d1",
        "outputId": "391401b7-f4b5-41d4-faa0-5704e06b4460"
      },
      "outputs": [
        {
          "name": "stdout",
          "output_type": "stream",
          "text": [
            "Mejores hiperparámetros: {'C': 0.01, 'penalty': 'l2', 'solver': 'liblinear'}\n",
            "F1-weighted CV: 0.22815712742977098\n",
            "Accuracy test: 0.29\n",
            "Matriz de confusión:\n",
            "[[ 0  5  0 13]\n",
            " [ 0  2  3 21]\n",
            " [ 0  7  1 18]\n",
            " [ 0  3  1 26]]\n",
            "Reporte de clasificación:\n",
            "              precision    recall  f1-score   support\n",
            "\n",
            "           0       0.00      0.00      0.00        18\n",
            "           1       0.12      0.08      0.09        26\n",
            "           2       0.20      0.04      0.06        26\n",
            "           3       0.33      0.87      0.48        30\n",
            "\n",
            "    accuracy                           0.29       100\n",
            "   macro avg       0.16      0.25      0.16       100\n",
            "weighted avg       0.18      0.29      0.19       100\n",
            "\n"
          ]
        }
      ],
      "source": [
        "y_pred_lr = grid_lr.best_estimator_.predict(X_test)\n",
        "\n",
        "print(\"Mejores hiperparámetros:\", grid_lr.best_params_)\n",
        "print(\"F1-weighted CV:\", grid_lr.best_score_)\n",
        "print(\"Accuracy test:\", grid_lr.best_estimator_.score(X_test, y_test))\n",
        "print(\"Matriz de confusión:\")\n",
        "print(confusion_matrix(y_test, y_pred_lr))\n",
        "print(\"Reporte de clasificación:\")\n",
        "print(classification_report(y_test, y_pred_lr, zero_division=0))"
      ]
    },
    {
      "cell_type": "raw",
      "id": "c6b52b5a-25b8-45fd-baca-99e4ffea6473",
      "metadata": {
        "id": "c6b52b5a-25b8-45fd-baca-99e4ffea6473"
      },
      "source": []
    },
    {
      "cell_type": "markdown",
      "id": "e1836902-c762-4dfd-96c0-2a162f16e46b",
      "metadata": {
        "id": "e1836902-c762-4dfd-96c0-2a162f16e46b"
      },
      "source": [
        "### Análisis de resultados usando optimización de hiperparámetros"
      ]
    },
    {
      "cell_type": "markdown",
      "id": "06abd45c-2787-478d-936b-0bf69add0047",
      "metadata": {
        "id": "06abd45c-2787-478d-936b-0bf69add0047"
      },
      "source": [
        "**Random Forest**\n",
        "- Mejores parámetros: max_depth: 10, min_samples_leaf: 1, min_samples_split: 2, n_estimators: 50\n",
        "- CV f1-weighted: 0.31\n",
        "- Accuracy: 0.28\n",
        "- La clase 3 (None) fue la mejor predicha, con precision=0.33, recall=0.43.\n",
        "- La clase 0 fue la más débil (recall=0.11, f1-score bajo).\n",
        "- Logra un balance moderado en todas las clases salvo 0 (High)."
      ]
    },
    {
      "cell_type": "markdown",
      "id": "9c77c558-5518-41c8-a794-11c15d8b1bbe",
      "metadata": {
        "id": "9c77c558-5518-41c8-a794-11c15d8b1bbe"
      },
      "source": [
        "**Árbol de decisión**\n",
        "- Mejores parámetros: criterion: entropy, max_depth: 20, min_samples_split: 5\n",
        "- CV f1-weighted: 0.29\n",
        "- Accuracy: 0.31\n",
        "- Mejor recall y f1 para clases 0, 1 y 2.\n",
        "- La clase 3 fue predicha con bajo recall y precisión.\n",
        "- Balancea mejor las clases, especialmente 1 y 2. Tiene el f1 más parejo entre clases."
      ]
    },
    {
      "cell_type": "markdown",
      "id": "6e3589a7-f15c-46eb-94c9-520aacffc425",
      "metadata": {
        "id": "6e3589a7-f15c-46eb-94c9-520aacffc425"
      },
      "source": [
        "**k-Nearest Neighbors (kNN)**\n",
        "- Mejores parámetros: n_neighbors: 7, p: 1, weights: distance\n",
        "- CV f1-weighted: 0.30\n",
        "- Accuracy: 0.27\n",
        "- La clase 3 fue razonablemente predicha.\n",
        "- La clase 0 mal clasificada (recall=0.17), dispersión en todas las clases.\n",
        "- El rendimiento del modelo es estable pero sin precisión clara."
      ]
    },
    {
      "cell_type": "markdown",
      "id": "85c19e20-8bbd-4550-9c06-c1e2e1b64165",
      "metadata": {
        "id": "85c19e20-8bbd-4550-9c06-c1e2e1b64165"
      },
      "source": [
        "**Regresión Logística**\n",
        "- Mejores parámetros: C: 0.01, penalty: l2, solver: liblinear\n",
        "- CV f1-weighted: 0.23\n",
        "- Accuracy: 0.29\n",
        "- Predice muy bien la clase 3 (recall=0.87, f1=0.48)\n",
        "- Ignora totalmente la clase 0 (recall 0.00) y rinde mal en 1 y 2.\n",
        "- Este modelo queda muy sesgado hacia la clase mayoritaria (Low)."
      ]
    },
    {
      "cell_type": "markdown",
      "id": "18ba52fb-9e3e-47c3-8329-5a796279c5e7",
      "metadata": {
        "id": "18ba52fb-9e3e-47c3-8329-5a796279c5e7"
      },
      "source": [
        "En resumen:\n",
        "- El **Árbol de decisión** obtuvo el mejor rendimiento general en el conjunto de test, con un F1-score de 0.31 y una accuracy de 0.31. Además, mostró un buen equilibrio entre precision y recall en todas las clases.\n",
        "- Aunque **Random Forest** obtuvo el F1-score en validación cruzada más alto (0.3132), en el conjunto de test alcanzó un F1-score de 0.27 y accuracy de 0.28. Su rendimiento fue sólido pero ligeramente inferior al árbol de decisión.\n",
        "- Con un F1-score de 0.27 y accuracy de 0.27 en el test, **kNN** se desempeñó en la misma línea que Random Forest. Sin embargo, su F1-score en validación cruzada fue bueno (0.3054), lo que sugiere que el modelo puede beneficiarse de una mayor cantidad de datos o un mejor preprocesamiento.\n",
        "- Es modelo de **Regresión Logística** mostró el rendimiento más bajo, con un F1-score de 0.19, a pesar de tener una accuracy de 0.29, influida por su tendencia a predecir la clase mayoritaria. El modelo fue incapaz de predecir correctamente algunas clases minoritarias, como se evidenció en la matriz de confusión."
      ]
    },
    {
      "cell_type": "markdown",
      "id": "9084d20e-fb8a-4cb8-af54-0caea82d6262",
      "metadata": {
        "id": "9084d20e-fb8a-4cb8-af54-0caea82d6262"
      },
      "source": [
        "Si bien todos los modelos fueron afectados por el desbalance de clases y la complejidad del dataset, el Árbol de Decisión ofreció la solución más robusta tras la optimización de hiperparámetros."
      ]
    },
    {
      "cell_type": "markdown",
      "source": [
        "Si bien podemos notar qué modelo ajusta mejor que los otros, destacamos que el valor de precisión para cualquiera es muy bajo -y lo mismo ocurre con todas las métricas. Esto indica un desempeño deficiente del modelo. Ahora bien, el objetivo del análisis era predecir la gravedad del blanqueamiento coral teniendo en cuenta cambios en el ambiente y vemos que no hay ningún modelo que pueda ajustar bien.\n",
        "Esto nos lleva a las siguientes conclusiones:\n",
        "El problema podría estar directamente en el dato, si es que presenta un desbalance extremo de clases o bien en el modelo, dado que podría no haber una  relación real entre las variables ambientales (temperatura, pH, etc) y el blanqueamiento. En este último caso, podría ser que las variables se relacionen de una manera no-lineal y rnecesitemos modelos más complejos para llegar a una relación aceptable."
      ],
      "metadata": {
        "id": "NQgEc8lbxJ6p"
      },
      "id": "NQgEc8lbxJ6p"
    },
    {
      "cell_type": "code",
      "execution_count": null,
      "id": "8efd0a41-fe90-470c-be55-45851ca65bca",
      "metadata": {
        "id": "8efd0a41-fe90-470c-be55-45851ca65bca"
      },
      "outputs": [],
      "source": []
    },
    {
      "cell_type": "code",
      "execution_count": null,
      "id": "d7e9c082-7327-4ea3-9dfc-261a90de5e4a",
      "metadata": {
        "id": "d7e9c082-7327-4ea3-9dfc-261a90de5e4a"
      },
      "outputs": [],
      "source": []
    }
  ],
  "metadata": {
    "kernelspec": {
      "display_name": "Python 3 (ipykernel)",
      "language": "python",
      "name": "python3"
    },
    "language_info": {
      "codemirror_mode": {
        "name": "ipython",
        "version": 3
      },
      "file_extension": ".py",
      "mimetype": "text/x-python",
      "name": "python",
      "nbconvert_exporter": "python",
      "pygments_lexer": "ipython3",
      "version": "3.12.7"
    },
    "colab": {
      "provenance": []
    }
  },
  "nbformat": 4,
  "nbformat_minor": 5
}